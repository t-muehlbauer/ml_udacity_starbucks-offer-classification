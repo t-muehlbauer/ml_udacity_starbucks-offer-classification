{
 "cells": [
  {
   "cell_type": "markdown",
   "metadata": {},
   "source": [
    "# Starbucks Capstone Challenge\n",
    "\n",
    "### Introduction\n",
    "\n",
    "This data set contains simulated data that mimics customer behavior on the Starbucks rewards mobile app. Once every few days, Starbucks sends out an offer to users of the mobile app. An offer can be merely an advertisement for a drink or an actual offer such as a discount or BOGO (buy one get one free). Some users might not receive any offer during certain weeks. \n",
    "\n",
    "Not all users receive the same offer, and that is the challenge to solve with this data set.\n",
    "\n",
    "Your task is to combine transaction, demographic and offer data to determine which demographic groups respond best to which offer type. This data set is a simplified version of the real Starbucks app because the underlying simulator only has one product whereas Starbucks actually sells dozens of products.\n",
    "\n",
    "Every offer has a validity period before the offer expires. As an example, a BOGO offer might be valid for only 5 days. You'll see in the data set that informational offers have a validity period even though these ads are merely providing information about a product; for example, if an informational offer has 7 days of validity, you can assume the customer is feeling the influence of the offer for 7 days after receiving the advertisement.\n",
    "\n",
    "You'll be given transactional data showing user purchases made on the app including the timestamp of purchase and the amount of money spent on a purchase. This transactional data also has a record for each offer that a user receives as well as a record for when a user actually views the offer. There are also records for when a user completes an offer. \n",
    "\n",
    "Keep in mind as well that someone using the app might make a purchase through the app without having received an offer or seen an offer.\n",
    "\n",
    "### Example\n",
    "\n",
    "To give an example, a user could receive a discount offer buy 10 dollars get 2 off on Monday. The offer is valid for 10 days from receipt. If the customer accumulates at least 10 dollars in purchases during the validity period, the customer completes the offer.\n",
    "\n",
    "However, there are a few things to watch out for in this data set. Customers do not opt into the offers that they receive; in other words, a user can receive an offer, never actually view the offer, and still complete the offer. For example, a user might receive the \"buy 10 dollars get 2 dollars off offer\", but the user never opens the offer during the 10 day validity period. The customer spends 15 dollars during those ten days. There will be an offer completion record in the data set; however, the customer was not influenced by the offer because the customer never viewed the offer.\n",
    "\n",
    "### Cleaning\n",
    "\n",
    "This makes data cleaning especially important and tricky.\n",
    "\n",
    "You'll also want to take into account that some demographic groups will make purchases even if they don't receive an offer. From a business perspective, if a customer is going to make a 10 dollar purchase without an offer anyway, you wouldn't want to send a buy 10 dollars get 2 dollars off offer. You'll want to try to assess what a certain demographic group will buy when not receiving any offers.\n",
    "\n",
    "### Final Advice\n",
    "\n",
    "Because this is a capstone project, you are free to analyze the data any way you see fit. For example, you could build a machine learning model that predicts how much someone will spend based on demographics and offer type. Or you could build a model that predicts whether or not someone will respond to an offer. Or, you don't need to build a machine learning model at all. You could develop a set of heuristics that determine what offer you should send to each customer (i.e., 75 percent of women customers who were 35 years old responded to offer A vs 40 percent from the same demographic to offer B, so send offer A)."
   ]
  },
  {
   "cell_type": "markdown",
   "metadata": {},
   "source": [
    "# Goal / stating Problem\n",
    "The goal of this project was to construct a machine learning model aimed at predicting whether a customer would complete an offer provided by the Starbucks rewards program. The primary expectation was to assess the influence of demographic factors such as age and gender on the likelihood of a customer successfully completing an offer.\n",
    "\n",
    "## Objective\n",
    "The primary objective was to utilize machine learning techniques to analyze customer behavior data from the Starbucks rewards mobile app. The focus was on understanding how various features, particularly age and gender, contribute to the successful completion of offers. By developing a predictive model, the aim was to identify patterns in customer behavior and determine which demographic factors might significantly impact offer completion rates.\n",
    "\n",
    "## Approach\n",
    "The project involved data preprocessing, exploratory data analysis (EDA), feature engineering, and building a machine learning model. It included the selection of relevant features, handling missing values, encoding categorical variables, and splitting the dataset into training and testing sets. The machine learning model was trained to predict whether a customer would complete an offer based on available demographic and behavioral features."
   ]
  },
  {
   "cell_type": "markdown",
   "metadata": {},
   "source": [
    "# Metrics\n",
    "## Accuracy Score\n",
    "The accuracy score is a metric used to evaluate the performance of a classification model. It measures the ratio of correctly predicted instances to the total number of instances in the dataset. The accuracy score is calculated by dividing the number of correct predictions by the total number of predictions made by the model.\n",
    "\n",
    "## F1 Score\n",
    "The F1 score is a measure that combines both precision and recall into a single value. It is particularly useful when dealing with imbalanced classes. The F1 score is calculated as the harmonic mean of precision and recall. It provides a balance between these two metrics, where higher values indicate better model performance.\n",
    "\n",
    "Both accuracy score and F1 score are essential metrics in evaluating the effectiveness of a classification model. While accuracy measures the overall correctness of predictions, the F1 score considers the balance between precision and recall, providing a more comprehensive assessment, especially in scenarios where class distribution is uneven.\n",
    "\n",
    "When interpreting these metrics, it's crucial to consider the specific context of the problem being solved and understand the trade-offs between precision, recall, and overall accuracy to make informed decisions about the model's performance."
   ]
  },
  {
   "cell_type": "markdown",
   "metadata": {},
   "source": [
    "# Data Sets\n",
    "\n",
    "The data is contained in three files:\n",
    "\n",
    "* portfolio.json - containing offer ids and meta data about each offer (duration, type, etc.)\n",
    "* profile.json - demographic data for each customer\n",
    "* transcript.json - records for transactions, offers received, offers viewed, and offers completed\n",
    "\n",
    "Here is the schema and explanation of each variable in the files:\n",
    "\n",
    "**portfolio.json**\n",
    "* id (string) - offer id\n",
    "* offer_type (string) - type of offer ie BOGO, discount, informational\n",
    "* difficulty (int) - minimum required spend to complete an offer\n",
    "* reward (int) - reward given for completing an offer\n",
    "* duration (int) - time for offer to be open, in days\n",
    "* channels (list of strings)\n",
    "\n",
    "**profile.json**\n",
    "* age (int) - age of the customer \n",
    "* became_member_on (int) - date when customer created an app account\n",
    "* gender (str) - gender of the customer (note some entries contain 'O' for other rather than M or F)\n",
    "* id (str) - customer id\n",
    "* income (float) - customer's income\n",
    "\n",
    "**transcript.json**\n",
    "* event (str) - record description (ie transaction, offer received, offer viewed, etc.)\n",
    "* person (str) - customer id\n",
    "* time (int) - time in hours since start of test. The data begins at time t=0\n",
    "* value - (dict of strings) - either an offer id or transaction amount depending on the record\n",
    "\n",
    "**Note:** If you are using the workspace, you will need to go to the terminal and run the command `conda update pandas` before reading in the files. This is because the version of pandas in the workspace cannot read in the transcript.json file correctly, but the newest version of pandas can. You can access the termnal from the orange icon in the top left of this notebook.  \n",
    "\n",
    "You can see how to access the terminal and how the install works using the two images below.  First you need to access the terminal:\n",
    "\n",
    "<img src=\"pic1.png\"/>\n",
    "\n",
    "Then you will want to run the above command:\n",
    "\n",
    "<img src=\"pic2.png\"/>\n",
    "\n",
    "Finally, when you enter back into the notebook (use the jupyter icon again), you should be able to run the below cell without any errors."
   ]
  },
  {
   "cell_type": "markdown",
   "metadata": {},
   "source": [
    "# Data Collection"
   ]
  },
  {
   "cell_type": "code",
   "execution_count": 4,
   "metadata": {},
   "outputs": [],
   "source": [
    "import pandas as pd\n",
    "import numpy as np\n",
    "import math\n",
    "import json\n",
    "import matplotlib.pyplot as plt\n",
    "import seaborn as sns\n",
    "from datetime import datetime\n",
    "\n",
    "\n",
    "% matplotlib inline\n",
    "\n",
    "# read in the json files\n",
    "portfolio = pd.read_json('data/portfolio.json', orient='records', lines=True)\n",
    "profile = pd.read_json('data/profile.json', orient='records', lines=True)\n",
    "transcript = pd.read_json('data/transcript.json', orient='records', lines=True)"
   ]
  },
  {
   "cell_type": "markdown",
   "metadata": {},
   "source": [
    "## Inspect Portfolio Dataset"
   ]
  },
  {
   "cell_type": "code",
   "execution_count": 5,
   "metadata": {},
   "outputs": [],
   "source": [
    "def dataframe_summary(dataframe):\n",
    "    \"\"\"\n",
    "    Function to generate summary information for a DataFrame including head, describe, shape, data types, \n",
    "    null value count, and percentage of null values.\n",
    "    \n",
    "    Parameters:\n",
    "    - dataframe: DataFrame for which summary information is required.\n",
    "    \n",
    "    Returns:\n",
    "    - Summary information: head, describe, shape, data types, null value count, and percentage of null values.\n",
    "    \"\"\"\n",
    "    # Display the first few rows using head()\n",
    "    print(\"Head:\\n\", dataframe.head(), \"\\n\")\n",
    "\n",
    "    # Display summary statistics using describe()\n",
    "    print(\"Describe:\\n\", dataframe.describe(), \"\\n\")\n",
    "\n",
    "    # Display the shape of the DataFrame\n",
    "    print(\"Shape:\", dataframe.shape, \"\\n\")\n",
    "\n",
    "    # Display data types of columns\n",
    "    print(\"Data Types:\\n\", dataframe.dtypes, \"\\n\")\n",
    "\n",
    "    # Check for null values and display the count of null values for each column using isnull().sum()\n",
    "    null_value_counts = dataframe.isnull().sum()\n",
    "    print(\"Null Value Counts:\\n\", null_value_counts)\n",
    "\n",
    "    # Calculate percentage of null values for each column\n",
    "    total_rows = len(dataframe)\n",
    "    null_percentage = (null_value_counts / total_rows) * 100\n",
    "    print(\"\\nPercentage of Null Values:\\n\", null_percentage)"
   ]
  },
  {
   "cell_type": "code",
   "execution_count": 6,
   "metadata": {},
   "outputs": [],
   "source": [
    "def display_unique_values(dataframe, column_name):\n",
    "    \"\"\"\n",
    "    Function to display unique values of a specified column in a DataFrame.\n",
    "    \n",
    "    Parameters:\n",
    "    - dataframe: DataFrame containing the column.\n",
    "    - column_name: Name of the column for which unique values are to be displayed.\n",
    "    \n",
    "    Returns:\n",
    "    - Unique values of the specified column.\n",
    "    \"\"\"\n",
    "    unique_values = dataframe[column_name].unique()\n",
    "    print(f\"Unique values in '{column_name}':\\n{unique_values}\")"
   ]
  },
  {
   "cell_type": "code",
   "execution_count": 7,
   "metadata": {},
   "outputs": [],
   "source": [
    "# To always display all columns when calling head() function.\n",
    "pd.set_option('display.max_columns', None)"
   ]
  },
  {
   "cell_type": "code",
   "execution_count": 8,
   "metadata": {},
   "outputs": [
    {
     "name": "stdout",
     "output_type": "stream",
     "text": [
      "Head:\n",
      "                        channels  difficulty  duration  \\\n",
      "0       [email, mobile, social]          10         7   \n",
      "1  [web, email, mobile, social]          10         5   \n",
      "2          [web, email, mobile]           0         4   \n",
      "3          [web, email, mobile]           5         7   \n",
      "4                  [web, email]          20        10   \n",
      "\n",
      "                                 id     offer_type  reward  \n",
      "0  ae264e3637204a6fb9bb56bc8210ddfd           bogo      10  \n",
      "1  4d5c57ea9a6940dd891ad53e9dbe8da0           bogo      10  \n",
      "2  3f207df678b143eea3cee63160fa8bed  informational       0  \n",
      "3  9b98b8c7a33c4b65b9aebfe6a799e6d9           bogo       5  \n",
      "4  0b1e1539f2cc45b7b9fa7c272da2e1d7       discount       5   \n",
      "\n",
      "Describe:\n",
      "        difficulty   duration     reward\n",
      "count   10.000000  10.000000  10.000000\n",
      "mean     7.700000   6.500000   4.200000\n",
      "std      5.831905   2.321398   3.583915\n",
      "min      0.000000   3.000000   0.000000\n",
      "25%      5.000000   5.000000   2.000000\n",
      "50%      8.500000   7.000000   4.000000\n",
      "75%     10.000000   7.000000   5.000000\n",
      "max     20.000000  10.000000  10.000000 \n",
      "\n",
      "Shape: (10, 6) \n",
      "\n",
      "Data Types:\n",
      " channels      object\n",
      "difficulty     int64\n",
      "duration       int64\n",
      "id            object\n",
      "offer_type    object\n",
      "reward         int64\n",
      "dtype: object \n",
      "\n",
      "Null Value Counts:\n",
      " channels      0\n",
      "difficulty    0\n",
      "duration      0\n",
      "id            0\n",
      "offer_type    0\n",
      "reward        0\n",
      "dtype: int64\n",
      "\n",
      "Percentage of Null Values:\n",
      " channels      0.0\n",
      "difficulty    0.0\n",
      "duration      0.0\n",
      "id            0.0\n",
      "offer_type    0.0\n",
      "reward        0.0\n",
      "dtype: float64\n"
     ]
    }
   ],
   "source": [
    "dataframe_summary(portfolio)"
   ]
  },
  {
   "cell_type": "code",
   "execution_count": 9,
   "metadata": {},
   "outputs": [
    {
     "name": "stdout",
     "output_type": "stream",
     "text": [
      "Unique values in 'offer_type':\n",
      "['bogo' 'informational' 'discount']\n"
     ]
    }
   ],
   "source": [
    "# Get unique offer types\n",
    "display_unique_values(portfolio, 'offer_type')"
   ]
  },
  {
   "cell_type": "markdown",
   "metadata": {},
   "source": [
    "## Insepct Profile Dataset"
   ]
  },
  {
   "cell_type": "code",
   "execution_count": 10,
   "metadata": {},
   "outputs": [
    {
     "name": "stdout",
     "output_type": "stream",
     "text": [
      "Head:\n",
      "    age  became_member_on gender                                id    income\n",
      "0  118          20170212   None  68be06ca386d4c31939f3a4f0e3dd783       NaN\n",
      "1   55          20170715      F  0610b486422d4921ae7d2bf64640c50b  112000.0\n",
      "2  118          20180712   None  38fe809add3b4fcf9315a9694bb96ff5       NaN\n",
      "3   75          20170509      F  78afa995795e4d85b5d9ceeca43f5fef  100000.0\n",
      "4  118          20170804   None  a03223e636434f42ac4c3df47e8bac43       NaN \n",
      "\n",
      "Describe:\n",
      "                 age  became_member_on         income\n",
      "count  17000.000000      1.700000e+04   14825.000000\n",
      "mean      62.531412      2.016703e+07   65404.991568\n",
      "std       26.738580      1.167750e+04   21598.299410\n",
      "min       18.000000      2.013073e+07   30000.000000\n",
      "25%       45.000000      2.016053e+07   49000.000000\n",
      "50%       58.000000      2.017080e+07   64000.000000\n",
      "75%       73.000000      2.017123e+07   80000.000000\n",
      "max      118.000000      2.018073e+07  120000.000000 \n",
      "\n",
      "Shape: (17000, 5) \n",
      "\n",
      "Data Types:\n",
      " age                   int64\n",
      "became_member_on      int64\n",
      "gender               object\n",
      "id                   object\n",
      "income              float64\n",
      "dtype: object \n",
      "\n",
      "Null Value Counts:\n",
      " age                    0\n",
      "became_member_on       0\n",
      "gender              2175\n",
      "id                     0\n",
      "income              2175\n",
      "dtype: int64\n",
      "\n",
      "Percentage of Null Values:\n",
      " age                  0.000000\n",
      "became_member_on     0.000000\n",
      "gender              12.794118\n",
      "id                   0.000000\n",
      "income              12.794118\n",
      "dtype: float64\n"
     ]
    }
   ],
   "source": [
    "dataframe_summary(profile)"
   ]
  },
  {
   "cell_type": "code",
   "execution_count": 11,
   "metadata": {},
   "outputs": [
    {
     "data": {
      "text/plain": [
       "0"
      ]
     },
     "execution_count": 11,
     "metadata": {},
     "output_type": "execute_result"
    }
   ],
   "source": [
    "# Checking for duplicate member. There are no duplicates.\n",
    "profile.duplicated().sum()"
   ]
  },
  {
   "cell_type": "code",
   "execution_count": 12,
   "metadata": {},
   "outputs": [
    {
     "data": {
      "image/png": "[encoded data removed]",
      "text/plain": [
       "<matplotlib.figure.Figure at 0x7fc6b4631a58>"
      ]
     },
     "metadata": {
      "needs_background": "light"
     },
     "output_type": "display_data"
    }
   ],
   "source": [
    "# Show a grafical distribution of age.\n",
    "plt.hist(profile['age'], bins=20, color='skyblue', edgecolor='black')\n",
    "plt.title('Distribution of Age')\n",
    "plt.xlabel('Age')\n",
    "plt.ylabel('Frequency')\n",
    "plt.show()"
   ]
  },
  {
   "cell_type": "markdown",
   "metadata": {},
   "source": [
    "## Inspect Transcript Dataset"
   ]
  },
  {
   "cell_type": "code",
   "execution_count": 13,
   "metadata": {},
   "outputs": [
    {
     "name": "stdout",
     "output_type": "stream",
     "text": [
      "Head:\n",
      "             event                            person  time  \\\n",
      "0  offer received  78afa995795e4d85b5d9ceeca43f5fef     0   \n",
      "1  offer received  a03223e636434f42ac4c3df47e8bac43     0   \n",
      "2  offer received  e2127556f4f64592b11af22de27a7932     0   \n",
      "3  offer received  8ec6ce2a7e7949b1bf142def7d0e0586     0   \n",
      "4  offer received  68617ca6246f4fbc85e91a2a49552598     0   \n",
      "\n",
      "                                              value  \n",
      "0  {'offer id': '9b98b8c7a33c4b65b9aebfe6a799e6d9'}  \n",
      "1  {'offer id': '0b1e1539f2cc45b7b9fa7c272da2e1d7'}  \n",
      "2  {'offer id': '2906b810c7d4411798c6938adc9daaa5'}  \n",
      "3  {'offer id': 'fafdcd668e3743c1bb461111dcafc2a4'}  \n",
      "4  {'offer id': '4d5c57ea9a6940dd891ad53e9dbe8da0'}   \n",
      "\n",
      "Describe:\n",
      "                 time\n",
      "count  306534.000000\n",
      "mean      366.382940\n",
      "std       200.326314\n",
      "min         0.000000\n",
      "25%       186.000000\n",
      "50%       408.000000\n",
      "75%       528.000000\n",
      "max       714.000000 \n",
      "\n",
      "Shape: (306534, 4) \n",
      "\n",
      "Data Types:\n",
      " event     object\n",
      "person    object\n",
      "time       int64\n",
      "value     object\n",
      "dtype: object \n",
      "\n",
      "Null Value Counts:\n",
      " event     0\n",
      "person    0\n",
      "time      0\n",
      "value     0\n",
      "dtype: int64\n",
      "\n",
      "Percentage of Null Values:\n",
      " event     0.0\n",
      "person    0.0\n",
      "time      0.0\n",
      "value     0.0\n",
      "dtype: float64\n"
     ]
    }
   ],
   "source": [
    "dataframe_summary(transcript)"
   ]
  },
  {
   "cell_type": "code",
   "execution_count": 14,
   "metadata": {},
   "outputs": [
    {
     "name": "stdout",
     "output_type": "stream",
     "text": [
      "Unique values in 'event':\n",
      "['offer received' 'offer viewed' 'transaction' 'offer completed']\n"
     ]
    }
   ],
   "source": [
    "# Get unique events\n",
    "display_unique_values(transcript, 'event')"
   ]
  },
  {
   "cell_type": "markdown",
   "metadata": {},
   "source": [
    "# Data Preprocessing"
   ]
  },
  {
   "cell_type": "code",
   "execution_count": 15,
   "metadata": {},
   "outputs": [],
   "source": [
    "def rename_column(dataframe, old_name, new_name):\n",
    "    \"\"\"\n",
    "    Function to rename a column in a DataFrame.\n",
    "    \n",
    "    Parameters:\n",
    "    - dataframe: The DataFrame containing the column to be renamed.\n",
    "    - old_name: The current name of the column to be renamed.\n",
    "    - new_name: The new name to assign to the column.\n",
    "    \n",
    "    Returns:\n",
    "    - Updated DataFrame with the column renamed.\n",
    "    \"\"\"\n",
    "    dataframe.rename(columns={old_name: new_name}, inplace=True)\n",
    "    return dataframe"
   ]
  },
  {
   "cell_type": "code",
   "execution_count": 16,
   "metadata": {},
   "outputs": [],
   "source": [
    "def convert_column_to_binary(df, column_name):\n",
    "    \"\"\"\n",
    "    Function to convert values in a column (containing lists) into new columns with binary values (0 and 1),\n",
    "    and drop the original column.\n",
    "    \n",
    "    Parameters:\n",
    "    - df: DataFrame containing the column to be transformed.\n",
    "    - column_name: Name of the column to be transformed into binary columns (containing lists).\n",
    "    \n",
    "    Returns:\n",
    "    - DataFrame with new binary columns based on each unique value in the specified column (original column dropped).\n",
    "    \"\"\"\n",
    "    # Get unique values from the column's lists\n",
    "    unique_values = set()\n",
    "    for row in df[column_name]:\n",
    "        if isinstance(row, list):  # Check if the entry is a list\n",
    "            unique_values.update(row)\n",
    "\n",
    "    # Iterate through each unique value and create new binary columns\n",
    "    for value in unique_values:\n",
    "        if pd.notna(value):  # Check for non-finite values (like NaN)\n",
    "            # Create a new column based on the unique value\n",
    "            new_column_name = f\"{value}\"\n",
    "\n",
    "            # Create a new column filled with 1s where the original column lists contain the unique value, 0s otherwise\n",
    "            df[new_column_name] = df.apply(lambda x: 1 if isinstance(x[column_name], list) and value in x[column_name] else 0, axis=1)\n",
    "\n",
    "    # Drop the original column containing lists\n",
    "    df.drop(columns=[column_name], inplace=True)\n",
    "\n",
    "    return df"
   ]
  },
  {
   "cell_type": "code",
   "execution_count": 17,
   "metadata": {},
   "outputs": [],
   "source": [
    "def convert_column_to_binary_with_dummies_int64(df, column_name):\n",
    "    \"\"\"\n",
    "    Function to convert values in a column into binary columns using Pandas get_dummies() function\n",
    "    and cast the resulting columns to int64.\n",
    "    \n",
    "    Parameters:\n",
    "    - df: DataFrame containing the column to be transformed.\n",
    "    - column_name: Name of the column to be transformed into binary columns.\n",
    "    \n",
    "    Returns:\n",
    "    - DataFrame with new binary columns based on each unique value in the specified column cast to int64.\n",
    "    \"\"\"\n",
    "    # Use get_dummies to convert the column into binary columns without a prefix\n",
    "    df_dummies = pd.get_dummies(df[column_name], prefix=None)\n",
    "    \n",
    "    # Cast the resulting columns to int64\n",
    "    df_dummies = df_dummies.astype('int64')\n",
    "\n",
    "    # Concatenate the binary columns to the original DataFrame\n",
    "    df = pd.concat([df, df_dummies], axis=1)\n",
    "\n",
    "    # Drop the original column\n",
    "    df.drop(columns=[column_name], inplace=True)\n",
    "\n",
    "    return df"
   ]
  },
  {
   "cell_type": "code",
   "execution_count": 18,
   "metadata": {},
   "outputs": [],
   "source": [
    "def replace_blanks_with_underscore(df, column_name):\n",
    "    \"\"\"\n",
    "    Function to replace blank spaces with underscores in a specified column of a DataFrame.\n",
    "    \n",
    "    Parameters:\n",
    "    - df: DataFrame containing the column to be modified.\n",
    "    - column_name: Name of the column where blank spaces will be replaced with underscores.\n",
    "    \n",
    "    Returns:\n",
    "    - DataFrame with blanks replaced by underscores in the specified column.\n",
    "    \"\"\"\n",
    "    # Replace blank spaces with underscores in the specified column\n",
    "    df[column_name] = df[column_name].str.replace(' ', '_')\n",
    "\n",
    "    return df"
   ]
  },
  {
   "cell_type": "markdown",
   "metadata": {},
   "source": [
    "## Portfolio Dataset"
   ]
  },
  {
   "cell_type": "code",
   "execution_count": 19,
   "metadata": {},
   "outputs": [
    {
     "data": {
      "text/html": [
       "<div>\n",
       "<style scoped>\n",
       "    .dataframe tbody tr th:only-of-type {\n",
       "        vertical-align: middle;\n",
       "    }\n",
       "\n",
       "    .dataframe tbody tr th {\n",
       "        vertical-align: top;\n",
       "    }\n",
       "\n",
       "    .dataframe thead th {\n",
       "        text-align: right;\n",
       "    }\n",
       "</style>\n",
       "<table border=\"1\" class=\"dataframe\">\n",
       "  <thead>\n",
       "    <tr style=\"text-align: right;\">\n",
       "      <th></th>\n",
       "      <th>channels</th>\n",
       "      <th>difficulty</th>\n",
       "      <th>duration</th>\n",
       "      <th>offer_id</th>\n",
       "      <th>offer_type</th>\n",
       "      <th>reward</th>\n",
       "    </tr>\n",
       "  </thead>\n",
       "  <tbody>\n",
       "    <tr>\n",
       "      <th>0</th>\n",
       "      <td>[email, mobile, social]</td>\n",
       "      <td>10</td>\n",
       "      <td>7</td>\n",
       "      <td>ae264e3637204a6fb9bb56bc8210ddfd</td>\n",
       "      <td>bogo</td>\n",
       "      <td>10</td>\n",
       "    </tr>\n",
       "  </tbody>\n",
       "</table>\n",
       "</div>"
      ],
      "text/plain": [
       "                  channels  difficulty  duration  \\\n",
       "0  [email, mobile, social]          10         7   \n",
       "\n",
       "                           offer_id offer_type  reward  \n",
       "0  ae264e3637204a6fb9bb56bc8210ddfd       bogo      10  "
      ]
     },
     "execution_count": 19,
     "metadata": {},
     "output_type": "execute_result"
    }
   ],
   "source": [
    "# Rename the 'id' column to 'offer_id'\n",
    "portfolio = rename_column(portfolio, 'id', 'offer_id')\n",
    "portfolio.head(1)"
   ]
  },
  {
   "cell_type": "code",
   "execution_count": 20,
   "metadata": {},
   "outputs": [
    {
     "data": {
      "text/html": [
       "<div>\n",
       "<style scoped>\n",
       "    .dataframe tbody tr th:only-of-type {\n",
       "        vertical-align: middle;\n",
       "    }\n",
       "\n",
       "    .dataframe tbody tr th {\n",
       "        vertical-align: top;\n",
       "    }\n",
       "\n",
       "    .dataframe thead th {\n",
       "        text-align: right;\n",
       "    }\n",
       "</style>\n",
       "<table border=\"1\" class=\"dataframe\">\n",
       "  <thead>\n",
       "    <tr style=\"text-align: right;\">\n",
       "      <th></th>\n",
       "      <th>difficulty</th>\n",
       "      <th>duration</th>\n",
       "      <th>offer_id</th>\n",
       "      <th>offer_type</th>\n",
       "      <th>reward</th>\n",
       "      <th>social</th>\n",
       "      <th>web</th>\n",
       "      <th>mobile</th>\n",
       "      <th>email</th>\n",
       "    </tr>\n",
       "  </thead>\n",
       "  <tbody>\n",
       "    <tr>\n",
       "      <th>0</th>\n",
       "      <td>10</td>\n",
       "      <td>7</td>\n",
       "      <td>ae264e3637204a6fb9bb56bc8210ddfd</td>\n",
       "      <td>bogo</td>\n",
       "      <td>10</td>\n",
       "      <td>1</td>\n",
       "      <td>0</td>\n",
       "      <td>1</td>\n",
       "      <td>1</td>\n",
       "    </tr>\n",
       "  </tbody>\n",
       "</table>\n",
       "</div>"
      ],
      "text/plain": [
       "   difficulty  duration                          offer_id offer_type  reward  \\\n",
       "0          10         7  ae264e3637204a6fb9bb56bc8210ddfd       bogo      10   \n",
       "\n",
       "   social  web  mobile  email  \n",
       "0       1    0       1      1  "
      ]
     },
     "execution_count": 20,
     "metadata": {},
     "output_type": "execute_result"
    }
   ],
   "source": [
    "portfolio = convert_column_to_binary(portfolio, 'channels')\n",
    "\n",
    "portfolio.head(1)"
   ]
  },
  {
   "cell_type": "code",
   "execution_count": 21,
   "metadata": {},
   "outputs": [
    {
     "name": "stdout",
     "output_type": "stream",
     "text": [
      "difficulty     int64\n",
      "duration       int64\n",
      "offer_id      object\n",
      "offer_type    object\n",
      "reward         int64\n",
      "social         int64\n",
      "web            int64\n",
      "mobile         int64\n",
      "email          int64\n",
      "dtype: object\n"
     ]
    }
   ],
   "source": [
    "# Check for the datatypes\n",
    "print(portfolio.dtypes)"
   ]
  },
  {
   "cell_type": "markdown",
   "metadata": {},
   "source": [
    "## Profile Dataset"
   ]
  },
  {
   "cell_type": "code",
   "execution_count": 22,
   "metadata": {},
   "outputs": [
    {
     "name": "stdout",
     "output_type": "stream",
     "text": [
      "Shape of Updated DataFrame after Dropping Rows: (14825, 5)\n"
     ]
    }
   ],
   "source": [
    "# As seen. In the age column are many null-values. They are encoded with 118.\n",
    "# I'll drop the values.\n",
    "# Dropping rows with '118' encoded as null values in 'age' column\n",
    "profile = profile[(profile['age'] != 118)]\n",
    "\n",
    "# Resetting the index after dropping rows\n",
    "profile.reset_index(drop=True, inplace=True)\n",
    "\n",
    "# Displaying the updated DataFrame shape after dropping rows\n",
    "print(\"Shape of Updated DataFrame after Dropping Rows:\", profile.shape)"
   ]
  },
  {
   "cell_type": "code",
   "execution_count": 23,
   "metadata": {},
   "outputs": [
    {
     "data": {
      "text/html": [
       "<div>\n",
       "<style scoped>\n",
       "    .dataframe tbody tr th:only-of-type {\n",
       "        vertical-align: middle;\n",
       "    }\n",
       "\n",
       "    .dataframe tbody tr th {\n",
       "        vertical-align: top;\n",
       "    }\n",
       "\n",
       "    .dataframe thead th {\n",
       "        text-align: right;\n",
       "    }\n",
       "</style>\n",
       "<table border=\"1\" class=\"dataframe\">\n",
       "  <thead>\n",
       "    <tr style=\"text-align: right;\">\n",
       "      <th></th>\n",
       "      <th>age</th>\n",
       "      <th>became_member_on</th>\n",
       "      <th>gender</th>\n",
       "      <th>id</th>\n",
       "      <th>income</th>\n",
       "    </tr>\n",
       "  </thead>\n",
       "  <tbody>\n",
       "    <tr>\n",
       "      <th>0</th>\n",
       "      <td>55</td>\n",
       "      <td>20170715</td>\n",
       "      <td>F</td>\n",
       "      <td>0610b486422d4921ae7d2bf64640c50b</td>\n",
       "      <td>112000.0</td>\n",
       "    </tr>\n",
       "  </tbody>\n",
       "</table>\n",
       "</div>"
      ],
      "text/plain": [
       "   age  became_member_on gender                                id    income\n",
       "0   55          20170715      F  0610b486422d4921ae7d2bf64640c50b  112000.0"
      ]
     },
     "execution_count": 23,
     "metadata": {},
     "output_type": "execute_result"
    }
   ],
   "source": [
    "profile.head(1)"
   ]
  },
  {
   "cell_type": "code",
   "execution_count": 24,
   "metadata": {},
   "outputs": [
    {
     "data": {
      "text/html": [
       "<div>\n",
       "<style scoped>\n",
       "    .dataframe tbody tr th:only-of-type {\n",
       "        vertical-align: middle;\n",
       "    }\n",
       "\n",
       "    .dataframe tbody tr th {\n",
       "        vertical-align: top;\n",
       "    }\n",
       "\n",
       "    .dataframe thead th {\n",
       "        text-align: right;\n",
       "    }\n",
       "</style>\n",
       "<table border=\"1\" class=\"dataframe\">\n",
       "  <thead>\n",
       "    <tr style=\"text-align: right;\">\n",
       "      <th></th>\n",
       "      <th>age</th>\n",
       "      <th>became_member_on</th>\n",
       "      <th>gender</th>\n",
       "      <th>customer_id</th>\n",
       "      <th>income</th>\n",
       "    </tr>\n",
       "  </thead>\n",
       "  <tbody>\n",
       "    <tr>\n",
       "      <th>0</th>\n",
       "      <td>55</td>\n",
       "      <td>20170715</td>\n",
       "      <td>F</td>\n",
       "      <td>0610b486422d4921ae7d2bf64640c50b</td>\n",
       "      <td>112000.0</td>\n",
       "    </tr>\n",
       "  </tbody>\n",
       "</table>\n",
       "</div>"
      ],
      "text/plain": [
       "   age  became_member_on gender                       customer_id    income\n",
       "0   55          20170715      F  0610b486422d4921ae7d2bf64640c50b  112000.0"
      ]
     },
     "execution_count": 24,
     "metadata": {},
     "output_type": "execute_result"
    }
   ],
   "source": [
    "# Rename the 'id' column to 'customer_id'\n",
    "profile = rename_column(profile, 'id', 'customer_id')\n",
    "profile.head(1)"
   ]
  },
  {
   "cell_type": "code",
   "execution_count": 25,
   "metadata": {},
   "outputs": [
    {
     "data": {
      "text/html": [
       "<div>\n",
       "<style scoped>\n",
       "    .dataframe tbody tr th:only-of-type {\n",
       "        vertical-align: middle;\n",
       "    }\n",
       "\n",
       "    .dataframe tbody tr th {\n",
       "        vertical-align: top;\n",
       "    }\n",
       "\n",
       "    .dataframe thead th {\n",
       "        text-align: right;\n",
       "    }\n",
       "</style>\n",
       "<table border=\"1\" class=\"dataframe\">\n",
       "  <thead>\n",
       "    <tr style=\"text-align: right;\">\n",
       "      <th></th>\n",
       "      <th>age</th>\n",
       "      <th>became_member_on</th>\n",
       "      <th>gender</th>\n",
       "      <th>customer_id</th>\n",
       "      <th>income</th>\n",
       "    </tr>\n",
       "  </thead>\n",
       "  <tbody>\n",
       "    <tr>\n",
       "      <th>0</th>\n",
       "      <td>55</td>\n",
       "      <td>2017-07-15</td>\n",
       "      <td>F</td>\n",
       "      <td>0610b486422d4921ae7d2bf64640c50b</td>\n",
       "      <td>112000.0</td>\n",
       "    </tr>\n",
       "  </tbody>\n",
       "</table>\n",
       "</div>"
      ],
      "text/plain": [
       "   age became_member_on gender                       customer_id    income\n",
       "0   55       2017-07-15      F  0610b486422d4921ae7d2bf64640c50b  112000.0"
      ]
     },
     "execution_count": 25,
     "metadata": {},
     "output_type": "execute_result"
    }
   ],
   "source": [
    "# Convert 'became_member_on' to date format\n",
    "profile['became_member_on'] = pd.to_datetime(profile['became_member_on'], format='%Y%m%d')\n",
    "profile.head(1)"
   ]
  },
  {
   "cell_type": "code",
   "execution_count": 26,
   "metadata": {},
   "outputs": [
    {
     "data": {
      "text/html": [
       "<div>\n",
       "<style scoped>\n",
       "    .dataframe tbody tr th:only-of-type {\n",
       "        vertical-align: middle;\n",
       "    }\n",
       "\n",
       "    .dataframe tbody tr th {\n",
       "        vertical-align: top;\n",
       "    }\n",
       "\n",
       "    .dataframe thead th {\n",
       "        text-align: right;\n",
       "    }\n",
       "</style>\n",
       "<table border=\"1\" class=\"dataframe\">\n",
       "  <thead>\n",
       "    <tr style=\"text-align: right;\">\n",
       "      <th></th>\n",
       "      <th>age</th>\n",
       "      <th>became_member_on</th>\n",
       "      <th>gender</th>\n",
       "      <th>customer_id</th>\n",
       "      <th>income</th>\n",
       "      <th>membership_duration</th>\n",
       "    </tr>\n",
       "  </thead>\n",
       "  <tbody>\n",
       "    <tr>\n",
       "      <th>0</th>\n",
       "      <td>55</td>\n",
       "      <td>2017-07-15</td>\n",
       "      <td>F</td>\n",
       "      <td>0610b486422d4921ae7d2bf64640c50b</td>\n",
       "      <td>112000.0</td>\n",
       "      <td>2327</td>\n",
       "    </tr>\n",
       "  </tbody>\n",
       "</table>\n",
       "</div>"
      ],
      "text/plain": [
       "   age became_member_on gender                       customer_id    income  \\\n",
       "0   55       2017-07-15      F  0610b486422d4921ae7d2bf64640c50b  112000.0   \n",
       "\n",
       "   membership_duration  \n",
       "0                 2327  "
      ]
     },
     "execution_count": 26,
     "metadata": {},
     "output_type": "execute_result"
    }
   ],
   "source": [
    "# Calculate membership duration in days from the membership start date till today\n",
    "today_date = datetime.today().date()  # Get the current date\n",
    "profile['membership_duration'] = (today_date - profile['became_member_on'].dt.date).dt.days\n",
    "profile.head(1)"
   ]
  },
  {
   "cell_type": "code",
   "execution_count": 27,
   "metadata": {},
   "outputs": [
    {
     "data": {
      "text/plain": [
       "age                    0\n",
       "became_member_on       0\n",
       "gender                 0\n",
       "customer_id            0\n",
       "income                 0\n",
       "membership_duration    0\n",
       "dtype: int64"
      ]
     },
     "execution_count": 27,
     "metadata": {},
     "output_type": "execute_result"
    }
   ],
   "source": [
    "# Check for NaN values\n",
    "profile.isnull().sum()"
   ]
  },
  {
   "cell_type": "code",
   "execution_count": 28,
   "metadata": {},
   "outputs": [
    {
     "data": {
      "text/plain": [
       "age                             int64\n",
       "became_member_on       datetime64[ns]\n",
       "gender                         object\n",
       "customer_id                    object\n",
       "income                        float64\n",
       "membership_duration             int64\n",
       "dtype: object"
      ]
     },
     "execution_count": 28,
     "metadata": {},
     "output_type": "execute_result"
    }
   ],
   "source": [
    "# Check the datatypes\n",
    "profile.dtypes"
   ]
  },
  {
   "cell_type": "markdown",
   "metadata": {},
   "source": [
    "## Transcript Dataset"
   ]
  },
  {
   "cell_type": "code",
   "execution_count": 29,
   "metadata": {},
   "outputs": [
    {
     "data": {
      "text/html": [
       "<div>\n",
       "<style scoped>\n",
       "    .dataframe tbody tr th:only-of-type {\n",
       "        vertical-align: middle;\n",
       "    }\n",
       "\n",
       "    .dataframe tbody tr th {\n",
       "        vertical-align: top;\n",
       "    }\n",
       "\n",
       "    .dataframe thead th {\n",
       "        text-align: right;\n",
       "    }\n",
       "</style>\n",
       "<table border=\"1\" class=\"dataframe\">\n",
       "  <thead>\n",
       "    <tr style=\"text-align: right;\">\n",
       "      <th></th>\n",
       "      <th>event</th>\n",
       "      <th>person</th>\n",
       "      <th>time</th>\n",
       "      <th>value</th>\n",
       "    </tr>\n",
       "  </thead>\n",
       "  <tbody>\n",
       "    <tr>\n",
       "      <th>0</th>\n",
       "      <td>offer received</td>\n",
       "      <td>78afa995795e4d85b5d9ceeca43f5fef</td>\n",
       "      <td>0</td>\n",
       "      <td>{'offer id': '9b98b8c7a33c4b65b9aebfe6a799e6d9'}</td>\n",
       "    </tr>\n",
       "  </tbody>\n",
       "</table>\n",
       "</div>"
      ],
      "text/plain": [
       "            event                            person  time  \\\n",
       "0  offer received  78afa995795e4d85b5d9ceeca43f5fef     0   \n",
       "\n",
       "                                              value  \n",
       "0  {'offer id': '9b98b8c7a33c4b65b9aebfe6a799e6d9'}  "
      ]
     },
     "execution_count": 29,
     "metadata": {},
     "output_type": "execute_result"
    }
   ],
   "source": [
    "transcript.head(1)"
   ]
  },
  {
   "cell_type": "code",
   "execution_count": 30,
   "metadata": {},
   "outputs": [
    {
     "data": {
      "text/html": [
       "<div>\n",
       "<style scoped>\n",
       "    .dataframe tbody tr th:only-of-type {\n",
       "        vertical-align: middle;\n",
       "    }\n",
       "\n",
       "    .dataframe tbody tr th {\n",
       "        vertical-align: top;\n",
       "    }\n",
       "\n",
       "    .dataframe thead th {\n",
       "        text-align: right;\n",
       "    }\n",
       "</style>\n",
       "<table border=\"1\" class=\"dataframe\">\n",
       "  <thead>\n",
       "    <tr style=\"text-align: right;\">\n",
       "      <th></th>\n",
       "      <th>event</th>\n",
       "      <th>customer_id</th>\n",
       "      <th>time</th>\n",
       "      <th>value</th>\n",
       "    </tr>\n",
       "  </thead>\n",
       "  <tbody>\n",
       "    <tr>\n",
       "      <th>0</th>\n",
       "      <td>offer received</td>\n",
       "      <td>78afa995795e4d85b5d9ceeca43f5fef</td>\n",
       "      <td>0</td>\n",
       "      <td>{'offer id': '9b98b8c7a33c4b65b9aebfe6a799e6d9'}</td>\n",
       "    </tr>\n",
       "  </tbody>\n",
       "</table>\n",
       "</div>"
      ],
      "text/plain": [
       "            event                       customer_id  time  \\\n",
       "0  offer received  78afa995795e4d85b5d9ceeca43f5fef     0   \n",
       "\n",
       "                                              value  \n",
       "0  {'offer id': '9b98b8c7a33c4b65b9aebfe6a799e6d9'}  "
      ]
     },
     "execution_count": 30,
     "metadata": {},
     "output_type": "execute_result"
    }
   ],
   "source": [
    "# Rename the 'person' column to 'customer_id'\n",
    "transcript.rename(columns={'person': 'customer_id'}, inplace=True)\n",
    "transcript.head(1)"
   ]
  },
  {
   "cell_type": "code",
   "execution_count": 31,
   "metadata": {},
   "outputs": [],
   "source": [
    "transcript = replace_blanks_with_underscore(transcript, 'event')"
   ]
  },
  {
   "cell_type": "code",
   "execution_count": 32,
   "metadata": {},
   "outputs": [
    {
     "data": {
      "text/plain": [
       "event          object\n",
       "customer_id    object\n",
       "time            int64\n",
       "value          object\n",
       "dtype: object"
      ]
     },
     "execution_count": 32,
     "metadata": {},
     "output_type": "execute_result"
    }
   ],
   "source": [
    "transcript.dtypes"
   ]
  },
  {
   "cell_type": "code",
   "execution_count": 33,
   "metadata": {},
   "outputs": [
    {
     "data": {
      "text/html": [
       "<div>\n",
       "<style scoped>\n",
       "    .dataframe tbody tr th:only-of-type {\n",
       "        vertical-align: middle;\n",
       "    }\n",
       "\n",
       "    .dataframe tbody tr th {\n",
       "        vertical-align: top;\n",
       "    }\n",
       "\n",
       "    .dataframe thead th {\n",
       "        text-align: right;\n",
       "    }\n",
       "</style>\n",
       "<table border=\"1\" class=\"dataframe\">\n",
       "  <thead>\n",
       "    <tr style=\"text-align: right;\">\n",
       "      <th></th>\n",
       "      <th>event</th>\n",
       "      <th>customer_id</th>\n",
       "      <th>time</th>\n",
       "      <th>value</th>\n",
       "    </tr>\n",
       "  </thead>\n",
       "  <tbody>\n",
       "    <tr>\n",
       "      <th>0</th>\n",
       "      <td>offer_received</td>\n",
       "      <td>78afa995795e4d85b5d9ceeca43f5fef</td>\n",
       "      <td>0</td>\n",
       "      <td>{'offer id': '9b98b8c7a33c4b65b9aebfe6a799e6d9'}</td>\n",
       "    </tr>\n",
       "    <tr>\n",
       "      <th>1</th>\n",
       "      <td>offer_received</td>\n",
       "      <td>a03223e636434f42ac4c3df47e8bac43</td>\n",
       "      <td>0</td>\n",
       "      <td>{'offer id': '0b1e1539f2cc45b7b9fa7c272da2e1d7'}</td>\n",
       "    </tr>\n",
       "    <tr>\n",
       "      <th>2</th>\n",
       "      <td>offer_received</td>\n",
       "      <td>e2127556f4f64592b11af22de27a7932</td>\n",
       "      <td>0</td>\n",
       "      <td>{'offer id': '2906b810c7d4411798c6938adc9daaa5'}</td>\n",
       "    </tr>\n",
       "    <tr>\n",
       "      <th>3</th>\n",
       "      <td>offer_received</td>\n",
       "      <td>8ec6ce2a7e7949b1bf142def7d0e0586</td>\n",
       "      <td>0</td>\n",
       "      <td>{'offer id': 'fafdcd668e3743c1bb461111dcafc2a4'}</td>\n",
       "    </tr>\n",
       "    <tr>\n",
       "      <th>4</th>\n",
       "      <td>offer_received</td>\n",
       "      <td>68617ca6246f4fbc85e91a2a49552598</td>\n",
       "      <td>0</td>\n",
       "      <td>{'offer id': '4d5c57ea9a6940dd891ad53e9dbe8da0'}</td>\n",
       "    </tr>\n",
       "  </tbody>\n",
       "</table>\n",
       "</div>"
      ],
      "text/plain": [
       "            event                       customer_id  time  \\\n",
       "0  offer_received  78afa995795e4d85b5d9ceeca43f5fef     0   \n",
       "1  offer_received  a03223e636434f42ac4c3df47e8bac43     0   \n",
       "2  offer_received  e2127556f4f64592b11af22de27a7932     0   \n",
       "3  offer_received  8ec6ce2a7e7949b1bf142def7d0e0586     0   \n",
       "4  offer_received  68617ca6246f4fbc85e91a2a49552598     0   \n",
       "\n",
       "                                              value  \n",
       "0  {'offer id': '9b98b8c7a33c4b65b9aebfe6a799e6d9'}  \n",
       "1  {'offer id': '0b1e1539f2cc45b7b9fa7c272da2e1d7'}  \n",
       "2  {'offer id': '2906b810c7d4411798c6938adc9daaa5'}  \n",
       "3  {'offer id': 'fafdcd668e3743c1bb461111dcafc2a4'}  \n",
       "4  {'offer id': '4d5c57ea9a6940dd891ad53e9dbe8da0'}  "
      ]
     },
     "execution_count": 33,
     "metadata": {},
     "output_type": "execute_result"
    }
   ],
   "source": [
    "transcript.head()"
   ]
  },
  {
   "cell_type": "code",
   "execution_count": 34,
   "metadata": {},
   "outputs": [
    {
     "data": {
      "text/html": [
       "<div>\n",
       "<style scoped>\n",
       "    .dataframe tbody tr th:only-of-type {\n",
       "        vertical-align: middle;\n",
       "    }\n",
       "\n",
       "    .dataframe tbody tr th {\n",
       "        vertical-align: top;\n",
       "    }\n",
       "\n",
       "    .dataframe thead th {\n",
       "        text-align: right;\n",
       "    }\n",
       "</style>\n",
       "<table border=\"1\" class=\"dataframe\">\n",
       "  <thead>\n",
       "    <tr style=\"text-align: right;\">\n",
       "      <th></th>\n",
       "      <th>customer_id</th>\n",
       "      <th>time</th>\n",
       "      <th>value</th>\n",
       "      <th>offer_completed</th>\n",
       "      <th>offer_received</th>\n",
       "      <th>offer_viewed</th>\n",
       "      <th>transaction</th>\n",
       "    </tr>\n",
       "  </thead>\n",
       "  <tbody>\n",
       "    <tr>\n",
       "      <th>0</th>\n",
       "      <td>78afa995795e4d85b5d9ceeca43f5fef</td>\n",
       "      <td>0</td>\n",
       "      <td>{'offer id': '9b98b8c7a33c4b65b9aebfe6a799e6d9'}</td>\n",
       "      <td>0</td>\n",
       "      <td>1</td>\n",
       "      <td>0</td>\n",
       "      <td>0</td>\n",
       "    </tr>\n",
       "  </tbody>\n",
       "</table>\n",
       "</div>"
      ],
      "text/plain": [
       "                        customer_id  time  \\\n",
       "0  78afa995795e4d85b5d9ceeca43f5fef     0   \n",
       "\n",
       "                                              value  offer_completed  \\\n",
       "0  {'offer id': '9b98b8c7a33c4b65b9aebfe6a799e6d9'}                0   \n",
       "\n",
       "   offer_received  offer_viewed  transaction  \n",
       "0               1             0            0  "
      ]
     },
     "execution_count": 34,
     "metadata": {},
     "output_type": "execute_result"
    }
   ],
   "source": [
    "# Convert 'event' into binary columns\n",
    "transcript = convert_column_to_binary_with_dummies_int64(transcript, 'event')\n",
    "\n",
    "transcript.head(1)"
   ]
  },
  {
   "cell_type": "code",
   "execution_count": 35,
   "metadata": {},
   "outputs": [
    {
     "data": {
      "text/html": [
       "<div>\n",
       "<style scoped>\n",
       "    .dataframe tbody tr th:only-of-type {\n",
       "        vertical-align: middle;\n",
       "    }\n",
       "\n",
       "    .dataframe tbody tr th {\n",
       "        vertical-align: top;\n",
       "    }\n",
       "\n",
       "    .dataframe thead th {\n",
       "        text-align: right;\n",
       "    }\n",
       "</style>\n",
       "<table border=\"1\" class=\"dataframe\">\n",
       "  <thead>\n",
       "    <tr style=\"text-align: right;\">\n",
       "      <th></th>\n",
       "      <th>customer_id</th>\n",
       "      <th>time</th>\n",
       "      <th>offer_completed</th>\n",
       "      <th>offer_received</th>\n",
       "      <th>offer_viewed</th>\n",
       "      <th>transaction</th>\n",
       "      <th>amount</th>\n",
       "      <th>offer_id</th>\n",
       "      <th>rewards</th>\n",
       "    </tr>\n",
       "  </thead>\n",
       "  <tbody>\n",
       "    <tr>\n",
       "      <th>0</th>\n",
       "      <td>78afa995795e4d85b5d9ceeca43f5fef</td>\n",
       "      <td>0</td>\n",
       "      <td>0</td>\n",
       "      <td>1</td>\n",
       "      <td>0</td>\n",
       "      <td>0</td>\n",
       "      <td>NaN</td>\n",
       "      <td>9b98b8c7a33c4b65b9aebfe6a799e6d9</td>\n",
       "      <td>NaN</td>\n",
       "    </tr>\n",
       "    <tr>\n",
       "      <th>1</th>\n",
       "      <td>a03223e636434f42ac4c3df47e8bac43</td>\n",
       "      <td>0</td>\n",
       "      <td>0</td>\n",
       "      <td>1</td>\n",
       "      <td>0</td>\n",
       "      <td>0</td>\n",
       "      <td>NaN</td>\n",
       "      <td>0b1e1539f2cc45b7b9fa7c272da2e1d7</td>\n",
       "      <td>NaN</td>\n",
       "    </tr>\n",
       "    <tr>\n",
       "      <th>2</th>\n",
       "      <td>e2127556f4f64592b11af22de27a7932</td>\n",
       "      <td>0</td>\n",
       "      <td>0</td>\n",
       "      <td>1</td>\n",
       "      <td>0</td>\n",
       "      <td>0</td>\n",
       "      <td>NaN</td>\n",
       "      <td>2906b810c7d4411798c6938adc9daaa5</td>\n",
       "      <td>NaN</td>\n",
       "    </tr>\n",
       "    <tr>\n",
       "      <th>3</th>\n",
       "      <td>8ec6ce2a7e7949b1bf142def7d0e0586</td>\n",
       "      <td>0</td>\n",
       "      <td>0</td>\n",
       "      <td>1</td>\n",
       "      <td>0</td>\n",
       "      <td>0</td>\n",
       "      <td>NaN</td>\n",
       "      <td>fafdcd668e3743c1bb461111dcafc2a4</td>\n",
       "      <td>NaN</td>\n",
       "    </tr>\n",
       "    <tr>\n",
       "      <th>4</th>\n",
       "      <td>68617ca6246f4fbc85e91a2a49552598</td>\n",
       "      <td>0</td>\n",
       "      <td>0</td>\n",
       "      <td>1</td>\n",
       "      <td>0</td>\n",
       "      <td>0</td>\n",
       "      <td>NaN</td>\n",
       "      <td>4d5c57ea9a6940dd891ad53e9dbe8da0</td>\n",
       "      <td>NaN</td>\n",
       "    </tr>\n",
       "  </tbody>\n",
       "</table>\n",
       "</div>"
      ],
      "text/plain": [
       "                        customer_id  time  offer_completed  offer_received  \\\n",
       "0  78afa995795e4d85b5d9ceeca43f5fef     0                0               1   \n",
       "1  a03223e636434f42ac4c3df47e8bac43     0                0               1   \n",
       "2  e2127556f4f64592b11af22de27a7932     0                0               1   \n",
       "3  8ec6ce2a7e7949b1bf142def7d0e0586     0                0               1   \n",
       "4  68617ca6246f4fbc85e91a2a49552598     0                0               1   \n",
       "\n",
       "   offer_viewed  transaction  amount                          offer_id  \\\n",
       "0             0            0     NaN  9b98b8c7a33c4b65b9aebfe6a799e6d9   \n",
       "1             0            0     NaN  0b1e1539f2cc45b7b9fa7c272da2e1d7   \n",
       "2             0            0     NaN  2906b810c7d4411798c6938adc9daaa5   \n",
       "3             0            0     NaN  fafdcd668e3743c1bb461111dcafc2a4   \n",
       "4             0            0     NaN  4d5c57ea9a6940dd891ad53e9dbe8da0   \n",
       "\n",
       "   rewards  \n",
       "0      NaN  \n",
       "1      NaN  \n",
       "2      NaN  \n",
       "3      NaN  \n",
       "4      NaN  "
      ]
     },
     "execution_count": 35,
     "metadata": {},
     "output_type": "execute_result"
    }
   ],
   "source": [
    "# Separating the 'value' column\n",
    "# Extract 'amount', 'offer_id, and 'reward' from the 'value' column into separate columns\n",
    "transcript['amount'] = transcript['value'].apply(lambda x: x.get('amount'))\n",
    "transcript['offer_id'] = transcript['value'].apply(lambda x: x.get('offer_id') if 'offer_id' in x else x.get('offer id'))\n",
    "transcript['rewards'] = transcript['value'].apply(lambda x: x.get('reward'))\n",
    "\n",
    "# Drop the original 'value' column\n",
    "transcript.drop(columns=['value'], inplace=True)\n",
    "\n",
    "# Display the updated DataFrame with the new columns\n",
    "transcript.head()"
   ]
  },
  {
   "cell_type": "code",
   "execution_count": 36,
   "metadata": {},
   "outputs": [
    {
     "data": {
      "text/plain": [
       "customer_id         object\n",
       "time                 int64\n",
       "offer_completed      int64\n",
       "offer_received       int64\n",
       "offer_viewed         int64\n",
       "transaction          int64\n",
       "amount             float64\n",
       "offer_id            object\n",
       "rewards            float64\n",
       "dtype: object"
      ]
     },
     "execution_count": 36,
     "metadata": {},
     "output_type": "execute_result"
    }
   ],
   "source": [
    "transcript.dtypes"
   ]
  },
  {
   "cell_type": "code",
   "execution_count": 37,
   "metadata": {},
   "outputs": [
    {
     "data": {
      "text/plain": [
       "397"
      ]
     },
     "execution_count": 37,
     "metadata": {},
     "output_type": "execute_result"
    }
   ],
   "source": [
    "# handle the duplicates\n",
    "transcript.duplicated().sum()"
   ]
  },
  {
   "cell_type": "code",
   "execution_count": 38,
   "metadata": {},
   "outputs": [],
   "source": [
    "transcript.drop_duplicates(inplace = True)"
   ]
  },
  {
   "cell_type": "code",
   "execution_count": 39,
   "metadata": {},
   "outputs": [
    {
     "data": {
      "text/plain": [
       "0"
      ]
     },
     "execution_count": 39,
     "metadata": {},
     "output_type": "execute_result"
    }
   ],
   "source": [
    "transcript.duplicated().sum()"
   ]
  },
  {
   "cell_type": "code",
   "execution_count": 40,
   "metadata": {},
   "outputs": [
    {
     "name": "stdout",
     "output_type": "stream",
     "text": [
      "customer_id        78afa995795e4d85b5d9ceeca43f5fefa03223e636434f...\n",
      "time                                                               0\n",
      "offer_completed                                                  206\n",
      "offer_received                                                 12650\n",
      "offer_viewed                                                    2072\n",
      "transaction                                                      633\n",
      "amount                                                       7305.57\n",
      "rewards                                                         1092\n",
      "dtype: object\n",
      "Maximum value of 'time': 714\n"
     ]
    }
   ],
   "source": [
    "# Filtering the DataFrame for rows where the 'time' attribute is zero\n",
    "zero_time_records = transcript[transcript['time'] == 0]\n",
    "\n",
    "# Summing up the records where the 'time' attribute is zero\n",
    "sum_zero_time_records = zero_time_records.sum()\n",
    "\n",
    "# Displaying the sum of records where 'time' is zero\n",
    "print(sum_zero_time_records)\n",
    "\n",
    "# Finding the maximum value in the 'time' column\n",
    "max_time = transcript['time'].max()\n",
    "\n",
    "# Displaying the maximum value of 'time'\n",
    "print(\"Maximum value of 'time':\", max_time)\n"
   ]
  },
  {
   "cell_type": "markdown",
   "metadata": {},
   "source": [
    "## Merge datasets"
   ]
  },
  {
   "cell_type": "code",
   "execution_count": 41,
   "metadata": {},
   "outputs": [],
   "source": [
    "def merge_dataframes(df1, df2, on_column, how='left'):\n",
    "    \"\"\"\n",
    "    Function to merge two DataFrames based on a specified column and merge type.\n",
    "    \n",
    "    Parameters:\n",
    "    - df1: First DataFrame to be merged.\n",
    "    - df2: Second DataFrame to be merged.\n",
    "    - on_column: Column name on which the DataFrames will be merged.\n",
    "    - how: Type of merge (default is 'left').\n",
    "    \n",
    "    Returns:\n",
    "    - Merged DataFrame.\n",
    "    \"\"\"\n",
    "    merged_df = pd.merge(df1, df2, on=on_column, how=how)\n",
    "    return merged_df"
   ]
  },
  {
   "cell_type": "code",
   "execution_count": 42,
   "metadata": {},
   "outputs": [],
   "source": [
    "def handle_nan_and_convert_to_int(dataframe, columns):\n",
    "    \"\"\"\n",
    "    Function to handle NaN values in specified columns by replacing them with 0 and converting the columns to integers.\n",
    "    \n",
    "    Parameters:\n",
    "    - dataframe: DataFrame in which columns need NaN handling and conversion.\n",
    "    - columns: List of column names to handle NaN and convert to integers.\n",
    "    \n",
    "    Returns:\n",
    "    - DataFrame with specified columns processed.\n",
    "    \"\"\"\n",
    "    for column in columns:\n",
    "        dataframe[column] = dataframe[column].fillna(0).astype(int)\n",
    "    return dataframe"
   ]
  },
  {
   "cell_type": "code",
   "execution_count": 43,
   "metadata": {},
   "outputs": [
    {
     "name": "stdout",
     "output_type": "stream",
     "text": [
      "age                             int64\n",
      "became_member_on       datetime64[ns]\n",
      "gender                         object\n",
      "customer_id                    object\n",
      "income                        float64\n",
      "membership_duration             int64\n",
      "dtype: object\n",
      "\n",
      "difficulty     int64\n",
      "duration       int64\n",
      "offer_id      object\n",
      "offer_type    object\n",
      "reward         int64\n",
      "social         int64\n",
      "web            int64\n",
      "mobile         int64\n",
      "email          int64\n",
      "dtype: object\n",
      "\n",
      "customer_id         object\n",
      "time                 int64\n",
      "offer_completed      int64\n",
      "offer_received       int64\n",
      "offer_viewed         int64\n",
      "transaction          int64\n",
      "amount             float64\n",
      "offer_id            object\n",
      "rewards            float64\n",
      "dtype: object\n"
     ]
    }
   ],
   "source": [
    "print(profile.dtypes)\n",
    "print()\n",
    "print(portfolio.dtypes)\n",
    "print()\n",
    "print(transcript.dtypes)"
   ]
  },
  {
   "cell_type": "code",
   "execution_count": 44,
   "metadata": {},
   "outputs": [
    {
     "name": "stdout",
     "output_type": "stream",
     "text": [
      "customer_id                    object\n",
      "time                            int64\n",
      "offer_completed                 int64\n",
      "offer_received                  int64\n",
      "offer_viewed                    int64\n",
      "transaction                     int64\n",
      "amount                        float64\n",
      "offer_id                       object\n",
      "rewards                       float64\n",
      "age                           float64\n",
      "became_member_on       datetime64[ns]\n",
      "gender                         object\n",
      "income                        float64\n",
      "membership_duration           float64\n",
      "difficulty                    float64\n",
      "duration                      float64\n",
      "offer_type                     object\n",
      "reward                        float64\n",
      "social                        float64\n",
      "web                           float64\n",
      "mobile                        float64\n",
      "email                         float64\n",
      "dtype: object\n"
     ]
    }
   ],
   "source": [
    "# Call the function to merge the DataFrames\n",
    "transcript_profile = merge_dataframes(transcript, profile, 'customer_id', 'left')\n",
    "df = merge_dataframes(transcript_profile, portfolio, 'offer_id', 'left')\n",
    "\n",
    "# Display information about the data types of the merged DataFrame\n",
    "print(df.dtypes)"
   ]
  },
  {
   "cell_type": "code",
   "execution_count": 45,
   "metadata": {},
   "outputs": [
    {
     "name": "stdout",
     "output_type": "stream",
     "text": [
      "customer_id                    object\n",
      "time                            int64\n",
      "offer_completed                 int64\n",
      "offer_received                  int64\n",
      "offer_viewed                    int64\n",
      "transaction                     int64\n",
      "amount                        float64\n",
      "offer_id                       object\n",
      "rewards                       float64\n",
      "age                           float64\n",
      "became_member_on       datetime64[ns]\n",
      "gender                         object\n",
      "income                        float64\n",
      "membership_duration           float64\n",
      "difficulty                    float64\n",
      "duration                      float64\n",
      "offer_type                     object\n",
      "reward                        float64\n",
      "social                          int64\n",
      "web                             int64\n",
      "mobile                          int64\n",
      "email                           int64\n",
      "dtype: object\n"
     ]
    }
   ],
   "source": [
    "# Call the function to handle NaN values and convert columns to integers\n",
    "processed_df = handle_nan_and_convert_to_int(df, ['web', 'mobile', 'email', 'social'])\n",
    "\n",
    "print(df.dtypes)"
   ]
  },
  {
   "cell_type": "code",
   "execution_count": 46,
   "metadata": {},
   "outputs": [
    {
     "data": {
      "text/html": [
       "<div>\n",
       "<style scoped>\n",
       "    .dataframe tbody tr th:only-of-type {\n",
       "        vertical-align: middle;\n",
       "    }\n",
       "\n",
       "    .dataframe tbody tr th {\n",
       "        vertical-align: top;\n",
       "    }\n",
       "\n",
       "    .dataframe thead th {\n",
       "        text-align: right;\n",
       "    }\n",
       "</style>\n",
       "<table border=\"1\" class=\"dataframe\">\n",
       "  <thead>\n",
       "    <tr style=\"text-align: right;\">\n",
       "      <th></th>\n",
       "      <th>customer_id</th>\n",
       "      <th>time</th>\n",
       "      <th>offer_completed</th>\n",
       "      <th>offer_received</th>\n",
       "      <th>offer_viewed</th>\n",
       "      <th>transaction</th>\n",
       "      <th>amount</th>\n",
       "      <th>offer_id</th>\n",
       "      <th>rewards</th>\n",
       "      <th>age</th>\n",
       "      <th>became_member_on</th>\n",
       "      <th>gender</th>\n",
       "      <th>income</th>\n",
       "      <th>membership_duration</th>\n",
       "      <th>difficulty</th>\n",
       "      <th>duration</th>\n",
       "      <th>offer_type</th>\n",
       "      <th>reward</th>\n",
       "      <th>social</th>\n",
       "      <th>web</th>\n",
       "      <th>mobile</th>\n",
       "      <th>email</th>\n",
       "    </tr>\n",
       "  </thead>\n",
       "  <tbody>\n",
       "    <tr>\n",
       "      <th>0</th>\n",
       "      <td>78afa995795e4d85b5d9ceeca43f5fef</td>\n",
       "      <td>0</td>\n",
       "      <td>0</td>\n",
       "      <td>1</td>\n",
       "      <td>0</td>\n",
       "      <td>0</td>\n",
       "      <td>NaN</td>\n",
       "      <td>9b98b8c7a33c4b65b9aebfe6a799e6d9</td>\n",
       "      <td>NaN</td>\n",
       "      <td>75.0</td>\n",
       "      <td>2017-05-09</td>\n",
       "      <td>F</td>\n",
       "      <td>100000.0</td>\n",
       "      <td>2394.0</td>\n",
       "      <td>5.0</td>\n",
       "      <td>7.0</td>\n",
       "      <td>bogo</td>\n",
       "      <td>5.0</td>\n",
       "      <td>0</td>\n",
       "      <td>1</td>\n",
       "      <td>1</td>\n",
       "      <td>1</td>\n",
       "    </tr>\n",
       "    <tr>\n",
       "      <th>1</th>\n",
       "      <td>a03223e636434f42ac4c3df47e8bac43</td>\n",
       "      <td>0</td>\n",
       "      <td>0</td>\n",
       "      <td>1</td>\n",
       "      <td>0</td>\n",
       "      <td>0</td>\n",
       "      <td>NaN</td>\n",
       "      <td>0b1e1539f2cc45b7b9fa7c272da2e1d7</td>\n",
       "      <td>NaN</td>\n",
       "      <td>NaN</td>\n",
       "      <td>NaT</td>\n",
       "      <td>NaN</td>\n",
       "      <td>NaN</td>\n",
       "      <td>NaN</td>\n",
       "      <td>20.0</td>\n",
       "      <td>10.0</td>\n",
       "      <td>discount</td>\n",
       "      <td>5.0</td>\n",
       "      <td>0</td>\n",
       "      <td>1</td>\n",
       "      <td>0</td>\n",
       "      <td>1</td>\n",
       "    </tr>\n",
       "    <tr>\n",
       "      <th>2</th>\n",
       "      <td>e2127556f4f64592b11af22de27a7932</td>\n",
       "      <td>0</td>\n",
       "      <td>0</td>\n",
       "      <td>1</td>\n",
       "      <td>0</td>\n",
       "      <td>0</td>\n",
       "      <td>NaN</td>\n",
       "      <td>2906b810c7d4411798c6938adc9daaa5</td>\n",
       "      <td>NaN</td>\n",
       "      <td>68.0</td>\n",
       "      <td>2018-04-26</td>\n",
       "      <td>M</td>\n",
       "      <td>70000.0</td>\n",
       "      <td>2042.0</td>\n",
       "      <td>10.0</td>\n",
       "      <td>7.0</td>\n",
       "      <td>discount</td>\n",
       "      <td>2.0</td>\n",
       "      <td>0</td>\n",
       "      <td>1</td>\n",
       "      <td>1</td>\n",
       "      <td>1</td>\n",
       "    </tr>\n",
       "    <tr>\n",
       "      <th>3</th>\n",
       "      <td>8ec6ce2a7e7949b1bf142def7d0e0586</td>\n",
       "      <td>0</td>\n",
       "      <td>0</td>\n",
       "      <td>1</td>\n",
       "      <td>0</td>\n",
       "      <td>0</td>\n",
       "      <td>NaN</td>\n",
       "      <td>fafdcd668e3743c1bb461111dcafc2a4</td>\n",
       "      <td>NaN</td>\n",
       "      <td>NaN</td>\n",
       "      <td>NaT</td>\n",
       "      <td>NaN</td>\n",
       "      <td>NaN</td>\n",
       "      <td>NaN</td>\n",
       "      <td>10.0</td>\n",
       "      <td>10.0</td>\n",
       "      <td>discount</td>\n",
       "      <td>2.0</td>\n",
       "      <td>1</td>\n",
       "      <td>1</td>\n",
       "      <td>1</td>\n",
       "      <td>1</td>\n",
       "    </tr>\n",
       "    <tr>\n",
       "      <th>4</th>\n",
       "      <td>68617ca6246f4fbc85e91a2a49552598</td>\n",
       "      <td>0</td>\n",
       "      <td>0</td>\n",
       "      <td>1</td>\n",
       "      <td>0</td>\n",
       "      <td>0</td>\n",
       "      <td>NaN</td>\n",
       "      <td>4d5c57ea9a6940dd891ad53e9dbe8da0</td>\n",
       "      <td>NaN</td>\n",
       "      <td>NaN</td>\n",
       "      <td>NaT</td>\n",
       "      <td>NaN</td>\n",
       "      <td>NaN</td>\n",
       "      <td>NaN</td>\n",
       "      <td>10.0</td>\n",
       "      <td>5.0</td>\n",
       "      <td>bogo</td>\n",
       "      <td>10.0</td>\n",
       "      <td>1</td>\n",
       "      <td>1</td>\n",
       "      <td>1</td>\n",
       "      <td>1</td>\n",
       "    </tr>\n",
       "  </tbody>\n",
       "</table>\n",
       "</div>"
      ],
      "text/plain": [
       "                        customer_id  time  offer_completed  offer_received  \\\n",
       "0  78afa995795e4d85b5d9ceeca43f5fef     0                0               1   \n",
       "1  a03223e636434f42ac4c3df47e8bac43     0                0               1   \n",
       "2  e2127556f4f64592b11af22de27a7932     0                0               1   \n",
       "3  8ec6ce2a7e7949b1bf142def7d0e0586     0                0               1   \n",
       "4  68617ca6246f4fbc85e91a2a49552598     0                0               1   \n",
       "\n",
       "   offer_viewed  transaction  amount                          offer_id  \\\n",
       "0             0            0     NaN  9b98b8c7a33c4b65b9aebfe6a799e6d9   \n",
       "1             0            0     NaN  0b1e1539f2cc45b7b9fa7c272da2e1d7   \n",
       "2             0            0     NaN  2906b810c7d4411798c6938adc9daaa5   \n",
       "3             0            0     NaN  fafdcd668e3743c1bb461111dcafc2a4   \n",
       "4             0            0     NaN  4d5c57ea9a6940dd891ad53e9dbe8da0   \n",
       "\n",
       "   rewards   age became_member_on gender    income  membership_duration  \\\n",
       "0      NaN  75.0       2017-05-09      F  100000.0               2394.0   \n",
       "1      NaN   NaN              NaT    NaN       NaN                  NaN   \n",
       "2      NaN  68.0       2018-04-26      M   70000.0               2042.0   \n",
       "3      NaN   NaN              NaT    NaN       NaN                  NaN   \n",
       "4      NaN   NaN              NaT    NaN       NaN                  NaN   \n",
       "\n",
       "   difficulty  duration offer_type  reward  social  web  mobile  email  \n",
       "0         5.0       7.0       bogo     5.0       0    1       1      1  \n",
       "1        20.0      10.0   discount     5.0       0    1       0      1  \n",
       "2        10.0       7.0   discount     2.0       0    1       1      1  \n",
       "3        10.0      10.0   discount     2.0       1    1       1      1  \n",
       "4        10.0       5.0       bogo    10.0       1    1       1      1  "
      ]
     },
     "execution_count": 46,
     "metadata": {},
     "output_type": "execute_result"
    }
   ],
   "source": [
    "df.head()"
   ]
  },
  {
   "cell_type": "code",
   "execution_count": 47,
   "metadata": {},
   "outputs": [
    {
     "name": "stdout",
     "output_type": "stream",
     "text": [
      "Head:\n",
      "                         customer_id  time  offer_completed  offer_received  \\\n",
      "0  78afa995795e4d85b5d9ceeca43f5fef     0                0               1   \n",
      "1  a03223e636434f42ac4c3df47e8bac43     0                0               1   \n",
      "2  e2127556f4f64592b11af22de27a7932     0                0               1   \n",
      "3  8ec6ce2a7e7949b1bf142def7d0e0586     0                0               1   \n",
      "4  68617ca6246f4fbc85e91a2a49552598     0                0               1   \n",
      "\n",
      "   offer_viewed  transaction  amount                          offer_id  \\\n",
      "0             0            0     NaN  9b98b8c7a33c4b65b9aebfe6a799e6d9   \n",
      "1             0            0     NaN  0b1e1539f2cc45b7b9fa7c272da2e1d7   \n",
      "2             0            0     NaN  2906b810c7d4411798c6938adc9daaa5   \n",
      "3             0            0     NaN  fafdcd668e3743c1bb461111dcafc2a4   \n",
      "4             0            0     NaN  4d5c57ea9a6940dd891ad53e9dbe8da0   \n",
      "\n",
      "   rewards   age became_member_on gender    income  membership_duration  \\\n",
      "0      NaN  75.0       2017-05-09      F  100000.0               2394.0   \n",
      "1      NaN   NaN              NaT    NaN       NaN                  NaN   \n",
      "2      NaN  68.0       2018-04-26      M   70000.0               2042.0   \n",
      "3      NaN   NaN              NaT    NaN       NaN                  NaN   \n",
      "4      NaN   NaN              NaT    NaN       NaN                  NaN   \n",
      "\n",
      "   difficulty  duration offer_type  reward  social  web  mobile  email  \n",
      "0         5.0       7.0       bogo     5.0       0    1       1      1  \n",
      "1        20.0      10.0   discount     5.0       0    1       0      1  \n",
      "2        10.0       7.0   discount     2.0       0    1       1      1  \n",
      "3        10.0      10.0   discount     2.0       1    1       1      1  \n",
      "4        10.0       5.0       bogo    10.0       1    1       1      1   \n",
      "\n",
      "Describe:\n",
      "                 time  offer_completed  offer_received   offer_viewed  \\\n",
      "count  306137.000000    306137.000000   306137.000000  306137.000000   \n",
      "mean      366.185015         0.108389        0.249160       0.188559   \n",
      "std       200.348174         0.310872        0.432527       0.391159   \n",
      "min         0.000000         0.000000        0.000000       0.000000   \n",
      "25%       186.000000         0.000000        0.000000       0.000000   \n",
      "50%       408.000000         0.000000        0.000000       0.000000   \n",
      "75%       528.000000         0.000000        0.000000       0.000000   \n",
      "max       714.000000         1.000000        1.000000       1.000000   \n",
      "\n",
      "         transaction         amount       rewards            age  \\\n",
      "count  306137.000000  138953.000000  33182.000000  272388.000000   \n",
      "mean        0.453892      12.777356      4.902628      53.838565   \n",
      "std         0.497870      30.250529      2.887201      17.551277   \n",
      "min         0.000000       0.050000      2.000000      18.000000   \n",
      "25%         0.000000       2.780000      2.000000      41.000000   \n",
      "50%         0.000000       8.890000      5.000000      55.000000   \n",
      "75%         1.000000      18.070000      5.000000      66.000000   \n",
      "max         1.000000    1062.280000     10.000000     101.000000   \n",
      "\n",
      "              income  membership_duration     difficulty       duration  \\\n",
      "count  272388.000000        272388.000000  167184.000000  167184.000000   \n",
      "mean    64328.153223          2532.315535       7.843843       6.608210   \n",
      "std     21241.306119           428.863281       5.046996       2.136267   \n",
      "min     30000.000000          1951.000000       0.000000       3.000000   \n",
      "25%     48000.000000          2193.000000       5.000000       5.000000   \n",
      "50%     62000.000000          2422.000000      10.000000       7.000000   \n",
      "75%     78000.000000          2813.000000      10.000000       7.000000   \n",
      "max    120000.000000          3774.000000      20.000000      10.000000   \n",
      "\n",
      "              reward         social            web         mobile  \\\n",
      "count  167184.000000  306137.000000  306137.000000  306137.000000   \n",
      "mean        4.418461       0.358947       0.440554       0.501452   \n",
      "std         3.374401       0.479692       0.496454       0.499999   \n",
      "min         0.000000       0.000000       0.000000       0.000000   \n",
      "25%         2.000000       0.000000       0.000000       0.000000   \n",
      "50%         5.000000       0.000000       0.000000       1.000000   \n",
      "75%         5.000000       1.000000       1.000000       1.000000   \n",
      "max        10.000000       1.000000       1.000000       1.000000   \n",
      "\n",
      "               email  \n",
      "count  306137.000000  \n",
      "mean        0.546108  \n",
      "std         0.497870  \n",
      "min         0.000000  \n",
      "25%         0.000000  \n",
      "50%         1.000000  \n",
      "75%         1.000000  \n",
      "max         1.000000   \n",
      "\n",
      "Shape: (306137, 22) \n",
      "\n",
      "Data Types:\n",
      " customer_id                    object\n",
      "time                            int64\n",
      "offer_completed                 int64\n",
      "offer_received                  int64\n",
      "offer_viewed                    int64\n",
      "transaction                     int64\n",
      "amount                        float64\n",
      "offer_id                       object\n",
      "rewards                       float64\n",
      "age                           float64\n",
      "became_member_on       datetime64[ns]\n",
      "gender                         object\n",
      "income                        float64\n",
      "membership_duration           float64\n",
      "difficulty                    float64\n",
      "duration                      float64\n",
      "offer_type                     object\n",
      "reward                        float64\n",
      "social                          int64\n",
      "web                             int64\n",
      "mobile                          int64\n",
      "email                           int64\n",
      "dtype: object \n",
      "\n",
      "Null Value Counts:\n",
      " customer_id                 0\n",
      "time                        0\n",
      "offer_completed             0\n",
      "offer_received              0\n",
      "offer_viewed                0\n",
      "transaction                 0\n",
      "amount                 167184\n",
      "offer_id               138953\n",
      "rewards                272955\n",
      "age                     33749\n",
      "became_member_on        33749\n",
      "gender                  33749\n",
      "income                  33749\n",
      "membership_duration     33749\n",
      "difficulty             138953\n",
      "duration               138953\n",
      "offer_type             138953\n",
      "reward                 138953\n",
      "social                      0\n",
      "web                         0\n",
      "mobile                      0\n",
      "email                       0\n",
      "dtype: int64\n",
      "\n",
      "Percentage of Null Values:\n",
      " customer_id             0.000000\n",
      "time                    0.000000\n",
      "offer_completed         0.000000\n",
      "offer_received          0.000000\n",
      "offer_viewed            0.000000\n",
      "transaction             0.000000\n",
      "amount                 54.610844\n",
      "offer_id               45.389156\n",
      "rewards                89.161062\n",
      "age                    11.024149\n",
      "became_member_on       11.024149\n",
      "gender                 11.024149\n",
      "income                 11.024149\n",
      "membership_duration    11.024149\n",
      "difficulty             45.389156\n",
      "duration               45.389156\n",
      "offer_type             45.389156\n",
      "reward                 45.389156\n",
      "social                  0.000000\n",
      "web                     0.000000\n",
      "mobile                  0.000000\n",
      "email                   0.000000\n",
      "dtype: float64\n"
     ]
    }
   ],
   "source": [
    "dataframe_summary(df)"
   ]
  },
  {
   "cell_type": "markdown",
   "metadata": {},
   "source": [
    "# Explanatory Data Analysis"
   ]
  },
  {
   "cell_type": "code",
   "execution_count": 48,
   "metadata": {},
   "outputs": [
    {
     "data": {
      "text/html": [
       "<div>\n",
       "<style scoped>\n",
       "    .dataframe tbody tr th:only-of-type {\n",
       "        vertical-align: middle;\n",
       "    }\n",
       "\n",
       "    .dataframe tbody tr th {\n",
       "        vertical-align: top;\n",
       "    }\n",
       "\n",
       "    .dataframe thead th {\n",
       "        text-align: right;\n",
       "    }\n",
       "</style>\n",
       "<table border=\"1\" class=\"dataframe\">\n",
       "  <thead>\n",
       "    <tr style=\"text-align: right;\">\n",
       "      <th></th>\n",
       "      <th>customer_id</th>\n",
       "      <th>time</th>\n",
       "      <th>offer_completed</th>\n",
       "      <th>offer_received</th>\n",
       "      <th>offer_viewed</th>\n",
       "      <th>transaction</th>\n",
       "      <th>amount</th>\n",
       "      <th>offer_id</th>\n",
       "      <th>rewards</th>\n",
       "      <th>age</th>\n",
       "      <th>became_member_on</th>\n",
       "      <th>gender</th>\n",
       "      <th>income</th>\n",
       "      <th>membership_duration</th>\n",
       "      <th>difficulty</th>\n",
       "      <th>duration</th>\n",
       "      <th>offer_type</th>\n",
       "      <th>reward</th>\n",
       "      <th>social</th>\n",
       "      <th>web</th>\n",
       "      <th>mobile</th>\n",
       "      <th>email</th>\n",
       "    </tr>\n",
       "  </thead>\n",
       "  <tbody>\n",
       "    <tr>\n",
       "      <th>0</th>\n",
       "      <td>78afa995795e4d85b5d9ceeca43f5fef</td>\n",
       "      <td>0</td>\n",
       "      <td>0</td>\n",
       "      <td>1</td>\n",
       "      <td>0</td>\n",
       "      <td>0</td>\n",
       "      <td>NaN</td>\n",
       "      <td>9b98b8c7a33c4b65b9aebfe6a799e6d9</td>\n",
       "      <td>NaN</td>\n",
       "      <td>75.0</td>\n",
       "      <td>2017-05-09</td>\n",
       "      <td>F</td>\n",
       "      <td>100000.0</td>\n",
       "      <td>2394.0</td>\n",
       "      <td>5.0</td>\n",
       "      <td>7.0</td>\n",
       "      <td>bogo</td>\n",
       "      <td>5.0</td>\n",
       "      <td>0</td>\n",
       "      <td>1</td>\n",
       "      <td>1</td>\n",
       "      <td>1</td>\n",
       "    </tr>\n",
       "    <tr>\n",
       "      <th>1</th>\n",
       "      <td>a03223e636434f42ac4c3df47e8bac43</td>\n",
       "      <td>0</td>\n",
       "      <td>0</td>\n",
       "      <td>1</td>\n",
       "      <td>0</td>\n",
       "      <td>0</td>\n",
       "      <td>NaN</td>\n",
       "      <td>0b1e1539f2cc45b7b9fa7c272da2e1d7</td>\n",
       "      <td>NaN</td>\n",
       "      <td>NaN</td>\n",
       "      <td>NaT</td>\n",
       "      <td>NaN</td>\n",
       "      <td>NaN</td>\n",
       "      <td>NaN</td>\n",
       "      <td>20.0</td>\n",
       "      <td>10.0</td>\n",
       "      <td>discount</td>\n",
       "      <td>5.0</td>\n",
       "      <td>0</td>\n",
       "      <td>1</td>\n",
       "      <td>0</td>\n",
       "      <td>1</td>\n",
       "    </tr>\n",
       "    <tr>\n",
       "      <th>2</th>\n",
       "      <td>e2127556f4f64592b11af22de27a7932</td>\n",
       "      <td>0</td>\n",
       "      <td>0</td>\n",
       "      <td>1</td>\n",
       "      <td>0</td>\n",
       "      <td>0</td>\n",
       "      <td>NaN</td>\n",
       "      <td>2906b810c7d4411798c6938adc9daaa5</td>\n",
       "      <td>NaN</td>\n",
       "      <td>68.0</td>\n",
       "      <td>2018-04-26</td>\n",
       "      <td>M</td>\n",
       "      <td>70000.0</td>\n",
       "      <td>2042.0</td>\n",
       "      <td>10.0</td>\n",
       "      <td>7.0</td>\n",
       "      <td>discount</td>\n",
       "      <td>2.0</td>\n",
       "      <td>0</td>\n",
       "      <td>1</td>\n",
       "      <td>1</td>\n",
       "      <td>1</td>\n",
       "    </tr>\n",
       "    <tr>\n",
       "      <th>3</th>\n",
       "      <td>8ec6ce2a7e7949b1bf142def7d0e0586</td>\n",
       "      <td>0</td>\n",
       "      <td>0</td>\n",
       "      <td>1</td>\n",
       "      <td>0</td>\n",
       "      <td>0</td>\n",
       "      <td>NaN</td>\n",
       "      <td>fafdcd668e3743c1bb461111dcafc2a4</td>\n",
       "      <td>NaN</td>\n",
       "      <td>NaN</td>\n",
       "      <td>NaT</td>\n",
       "      <td>NaN</td>\n",
       "      <td>NaN</td>\n",
       "      <td>NaN</td>\n",
       "      <td>10.0</td>\n",
       "      <td>10.0</td>\n",
       "      <td>discount</td>\n",
       "      <td>2.0</td>\n",
       "      <td>1</td>\n",
       "      <td>1</td>\n",
       "      <td>1</td>\n",
       "      <td>1</td>\n",
       "    </tr>\n",
       "    <tr>\n",
       "      <th>4</th>\n",
       "      <td>68617ca6246f4fbc85e91a2a49552598</td>\n",
       "      <td>0</td>\n",
       "      <td>0</td>\n",
       "      <td>1</td>\n",
       "      <td>0</td>\n",
       "      <td>0</td>\n",
       "      <td>NaN</td>\n",
       "      <td>4d5c57ea9a6940dd891ad53e9dbe8da0</td>\n",
       "      <td>NaN</td>\n",
       "      <td>NaN</td>\n",
       "      <td>NaT</td>\n",
       "      <td>NaN</td>\n",
       "      <td>NaN</td>\n",
       "      <td>NaN</td>\n",
       "      <td>10.0</td>\n",
       "      <td>5.0</td>\n",
       "      <td>bogo</td>\n",
       "      <td>10.0</td>\n",
       "      <td>1</td>\n",
       "      <td>1</td>\n",
       "      <td>1</td>\n",
       "      <td>1</td>\n",
       "    </tr>\n",
       "    <tr>\n",
       "      <th>5</th>\n",
       "      <td>389bc3fa690240e798340f5a15918d5c</td>\n",
       "      <td>0</td>\n",
       "      <td>0</td>\n",
       "      <td>1</td>\n",
       "      <td>0</td>\n",
       "      <td>0</td>\n",
       "      <td>NaN</td>\n",
       "      <td>f19421c1d4aa40978ebb69ca19b0e20d</td>\n",
       "      <td>NaN</td>\n",
       "      <td>65.0</td>\n",
       "      <td>2018-02-09</td>\n",
       "      <td>M</td>\n",
       "      <td>53000.0</td>\n",
       "      <td>2118.0</td>\n",
       "      <td>5.0</td>\n",
       "      <td>5.0</td>\n",
       "      <td>bogo</td>\n",
       "      <td>5.0</td>\n",
       "      <td>1</td>\n",
       "      <td>1</td>\n",
       "      <td>1</td>\n",
       "      <td>1</td>\n",
       "    </tr>\n",
       "    <tr>\n",
       "      <th>6</th>\n",
       "      <td>c4863c7985cf408faee930f111475da3</td>\n",
       "      <td>0</td>\n",
       "      <td>0</td>\n",
       "      <td>1</td>\n",
       "      <td>0</td>\n",
       "      <td>0</td>\n",
       "      <td>NaN</td>\n",
       "      <td>2298d6c36e964ae4a3e7e9706d1fb8c2</td>\n",
       "      <td>NaN</td>\n",
       "      <td>NaN</td>\n",
       "      <td>NaT</td>\n",
       "      <td>NaN</td>\n",
       "      <td>NaN</td>\n",
       "      <td>NaN</td>\n",
       "      <td>7.0</td>\n",
       "      <td>7.0</td>\n",
       "      <td>discount</td>\n",
       "      <td>3.0</td>\n",
       "      <td>1</td>\n",
       "      <td>1</td>\n",
       "      <td>1</td>\n",
       "      <td>1</td>\n",
       "    </tr>\n",
       "    <tr>\n",
       "      <th>7</th>\n",
       "      <td>2eeac8d8feae4a8cad5a6af0499a211d</td>\n",
       "      <td>0</td>\n",
       "      <td>0</td>\n",
       "      <td>1</td>\n",
       "      <td>0</td>\n",
       "      <td>0</td>\n",
       "      <td>NaN</td>\n",
       "      <td>3f207df678b143eea3cee63160fa8bed</td>\n",
       "      <td>NaN</td>\n",
       "      <td>58.0</td>\n",
       "      <td>2017-11-11</td>\n",
       "      <td>M</td>\n",
       "      <td>51000.0</td>\n",
       "      <td>2208.0</td>\n",
       "      <td>0.0</td>\n",
       "      <td>4.0</td>\n",
       "      <td>informational</td>\n",
       "      <td>0.0</td>\n",
       "      <td>0</td>\n",
       "      <td>1</td>\n",
       "      <td>1</td>\n",
       "      <td>1</td>\n",
       "    </tr>\n",
       "    <tr>\n",
       "      <th>8</th>\n",
       "      <td>aa4862eba776480b8bb9c68455b8c2e1</td>\n",
       "      <td>0</td>\n",
       "      <td>0</td>\n",
       "      <td>1</td>\n",
       "      <td>0</td>\n",
       "      <td>0</td>\n",
       "      <td>NaN</td>\n",
       "      <td>0b1e1539f2cc45b7b9fa7c272da2e1d7</td>\n",
       "      <td>NaN</td>\n",
       "      <td>61.0</td>\n",
       "      <td>2017-09-11</td>\n",
       "      <td>F</td>\n",
       "      <td>57000.0</td>\n",
       "      <td>2269.0</td>\n",
       "      <td>20.0</td>\n",
       "      <td>10.0</td>\n",
       "      <td>discount</td>\n",
       "      <td>5.0</td>\n",
       "      <td>0</td>\n",
       "      <td>1</td>\n",
       "      <td>0</td>\n",
       "      <td>1</td>\n",
       "    </tr>\n",
       "    <tr>\n",
       "      <th>9</th>\n",
       "      <td>31dda685af34476cad5bc968bdb01c53</td>\n",
       "      <td>0</td>\n",
       "      <td>0</td>\n",
       "      <td>1</td>\n",
       "      <td>0</td>\n",
       "      <td>0</td>\n",
       "      <td>NaN</td>\n",
       "      <td>0b1e1539f2cc45b7b9fa7c272da2e1d7</td>\n",
       "      <td>NaN</td>\n",
       "      <td>62.0</td>\n",
       "      <td>2016-02-11</td>\n",
       "      <td>F</td>\n",
       "      <td>71000.0</td>\n",
       "      <td>2847.0</td>\n",
       "      <td>20.0</td>\n",
       "      <td>10.0</td>\n",
       "      <td>discount</td>\n",
       "      <td>5.0</td>\n",
       "      <td>0</td>\n",
       "      <td>1</td>\n",
       "      <td>0</td>\n",
       "      <td>1</td>\n",
       "    </tr>\n",
       "  </tbody>\n",
       "</table>\n",
       "</div>"
      ],
      "text/plain": [
       "                        customer_id  time  offer_completed  offer_received  \\\n",
       "0  78afa995795e4d85b5d9ceeca43f5fef     0                0               1   \n",
       "1  a03223e636434f42ac4c3df47e8bac43     0                0               1   \n",
       "2  e2127556f4f64592b11af22de27a7932     0                0               1   \n",
       "3  8ec6ce2a7e7949b1bf142def7d0e0586     0                0               1   \n",
       "4  68617ca6246f4fbc85e91a2a49552598     0                0               1   \n",
       "5  389bc3fa690240e798340f5a15918d5c     0                0               1   \n",
       "6  c4863c7985cf408faee930f111475da3     0                0               1   \n",
       "7  2eeac8d8feae4a8cad5a6af0499a211d     0                0               1   \n",
       "8  aa4862eba776480b8bb9c68455b8c2e1     0                0               1   \n",
       "9  31dda685af34476cad5bc968bdb01c53     0                0               1   \n",
       "\n",
       "   offer_viewed  transaction  amount                          offer_id  \\\n",
       "0             0            0     NaN  9b98b8c7a33c4b65b9aebfe6a799e6d9   \n",
       "1             0            0     NaN  0b1e1539f2cc45b7b9fa7c272da2e1d7   \n",
       "2             0            0     NaN  2906b810c7d4411798c6938adc9daaa5   \n",
       "3             0            0     NaN  fafdcd668e3743c1bb461111dcafc2a4   \n",
       "4             0            0     NaN  4d5c57ea9a6940dd891ad53e9dbe8da0   \n",
       "5             0            0     NaN  f19421c1d4aa40978ebb69ca19b0e20d   \n",
       "6             0            0     NaN  2298d6c36e964ae4a3e7e9706d1fb8c2   \n",
       "7             0            0     NaN  3f207df678b143eea3cee63160fa8bed   \n",
       "8             0            0     NaN  0b1e1539f2cc45b7b9fa7c272da2e1d7   \n",
       "9             0            0     NaN  0b1e1539f2cc45b7b9fa7c272da2e1d7   \n",
       "\n",
       "   rewards   age became_member_on gender    income  membership_duration  \\\n",
       "0      NaN  75.0       2017-05-09      F  100000.0               2394.0   \n",
       "1      NaN   NaN              NaT    NaN       NaN                  NaN   \n",
       "2      NaN  68.0       2018-04-26      M   70000.0               2042.0   \n",
       "3      NaN   NaN              NaT    NaN       NaN                  NaN   \n",
       "4      NaN   NaN              NaT    NaN       NaN                  NaN   \n",
       "5      NaN  65.0       2018-02-09      M   53000.0               2118.0   \n",
       "6      NaN   NaN              NaT    NaN       NaN                  NaN   \n",
       "7      NaN  58.0       2017-11-11      M   51000.0               2208.0   \n",
       "8      NaN  61.0       2017-09-11      F   57000.0               2269.0   \n",
       "9      NaN  62.0       2016-02-11      F   71000.0               2847.0   \n",
       "\n",
       "   difficulty  duration     offer_type  reward  social  web  mobile  email  \n",
       "0         5.0       7.0           bogo     5.0       0    1       1      1  \n",
       "1        20.0      10.0       discount     5.0       0    1       0      1  \n",
       "2        10.0       7.0       discount     2.0       0    1       1      1  \n",
       "3        10.0      10.0       discount     2.0       1    1       1      1  \n",
       "4        10.0       5.0           bogo    10.0       1    1       1      1  \n",
       "5         5.0       5.0           bogo     5.0       1    1       1      1  \n",
       "6         7.0       7.0       discount     3.0       1    1       1      1  \n",
       "7         0.0       4.0  informational     0.0       0    1       1      1  \n",
       "8        20.0      10.0       discount     5.0       0    1       0      1  \n",
       "9        20.0      10.0       discount     5.0       0    1       0      1  "
      ]
     },
     "execution_count": 48,
     "metadata": {},
     "output_type": "execute_result"
    }
   ],
   "source": [
    "df.head(10)"
   ]
  },
  {
   "cell_type": "markdown",
   "metadata": {},
   "source": [
    "## General"
   ]
  },
  {
   "cell_type": "code",
   "execution_count": 49,
   "metadata": {},
   "outputs": [
    {
     "name": "stdout",
     "output_type": "stream",
     "text": [
      "0.05\n",
      "1062.28\n"
     ]
    }
   ],
   "source": [
    "# Check for the minimum and maximum values in the 'amount' column\n",
    "min_amount = df['amount'].min()\n",
    "max_amount = df['amount'].max()\n",
    "print(min_amount)\n",
    "print(max_amount)"
   ]
  },
  {
   "cell_type": "code",
   "execution_count": 50,
   "metadata": {},
   "outputs": [
    {
     "data": {
      "image/png": "[encoded data removed]",
      "text/plain": [
       "<matplotlib.figure.Figure at 0x7fc6b4719390>"
      ]
     },
     "metadata": {
      "needs_background": "light"
     },
     "output_type": "display_data"
    },
    {
     "data": {
      "image/png": "[encoded data removed]",
      "text/plain": [
       "<matplotlib.figure.Figure at 0x7fc6b471eeb8>"
      ]
     },
     "metadata": {},
     "output_type": "display_data"
    }
   ],
   "source": [
    "# Calculate the counts of each offer type\n",
    "offer_type_counts = df['offer_type'].value_counts()\n",
    "\n",
    "# Bar Plot\n",
    "plt.figure(figsize=(8, 5))\n",
    "offer_type_counts.plot(kind='bar', color='skyblue')\n",
    "plt.title('Counts of Offer Types')\n",
    "plt.xlabel('Event Types')\n",
    "plt.ylabel('Count')\n",
    "plt.xticks(rotation=45)\n",
    "plt.tight_layout()\n",
    "plt.show()\n",
    "\n",
    "# Pie Chart\n",
    "plt.figure(figsize=(6, 6))\n",
    "plt.pie(offer_type_counts, labels=offer_type_counts.index, autopct='%1.1f%%', colors=['lightgreen', 'lightblue', 'lightcoral', 'lightskyblue'])\n",
    "plt.title('Distribution of Offer Types')\n",
    "plt.axis('equal')\n",
    "plt.tight_layout()\n",
    "plt.show()"
   ]
  },
  {
   "cell_type": "markdown",
   "metadata": {},
   "source": [
    "## Gender"
   ]
  },
  {
   "cell_type": "code",
   "execution_count": 51,
   "metadata": {},
   "outputs": [
    {
     "data": {
      "image/png": "[encoded data removed]",
      "text/plain": [
       "<matplotlib.figure.Figure at 0x7fc6b4719e80>"
      ]
     },
     "metadata": {
      "needs_background": "light"
     },
     "output_type": "display_data"
    }
   ],
   "source": [
    "# Plotting the gender distribution using Seaborn's countplot\n",
    "plt.figure(figsize=(6, 4))\n",
    "sns.countplot(data=profile, x='gender')\n",
    "plt.title('Gender Distribution')\n",
    "plt.xlabel('Gender')\n",
    "plt.ylabel('Count')\n",
    "plt.show()"
   ]
  },
  {
   "cell_type": "code",
   "execution_count": 52,
   "metadata": {},
   "outputs": [
    {
     "data": {
      "image/png": "[encoded data removed]",
      "text/plain": [
       "<matplotlib.figure.Figure at 0x7fc6b46846d8>"
      ]
     },
     "metadata": {
      "needs_background": "light"
     },
     "output_type": "display_data"
    }
   ],
   "source": [
    "# Grouping the DataFrame by 'gender' and calculating the average spending for each gender\n",
    "average_spending = df.groupby('gender')['amount'].mean()\n",
    "\n",
    "# Plotting a bar plot for average spending by gender\n",
    "plt.figure(figsize=(8, 6))\n",
    "average_spending.plot(kind='bar', color='skyblue')\n",
    "plt.title('Average Spending by Gender')\n",
    "plt.xlabel('Gender')\n",
    "plt.ylabel('Average Spending')\n",
    "plt.xticks(rotation=0)\n",
    "plt.grid(axis='y')\n",
    "plt.show()"
   ]
  },
  {
   "cell_type": "code",
   "execution_count": 53,
   "metadata": {},
   "outputs": [
    {
     "data": {
      "image/png": "[encoded data removed]",
      "text/plain": [
       "<matplotlib.figure.Figure at 0x7fc6b4610e48>"
      ]
     },
     "metadata": {
      "needs_background": "light"
     },
     "output_type": "display_data"
    }
   ],
   "source": [
    "# Group by 'gender' and calculate the sum of offer status columns\n",
    "grouped_gender = df.groupby('gender')[['offer_completed', 'offer_received', 'offer_viewed']].sum()\n",
    "\n",
    "# Plot histograms for offer status distribution grouped by gender\n",
    "grouped_gender.plot(kind='bar', figsize=(10, 6))\n",
    "plt.title('Offer Status Distribution Grouped by Gender')\n",
    "plt.xlabel('Gender')\n",
    "plt.ylabel('Count')\n",
    "plt.xticks(rotation=0)\n",
    "plt.legend(title='Offer Status')\n",
    "plt.show()"
   ]
  },
  {
   "cell_type": "code",
   "execution_count": 54,
   "metadata": {},
   "outputs": [
    {
     "name": "stdout",
     "output_type": "stream",
     "text": [
      "        offer_completed  offer_received  percentage_completed\n",
      "gender                                                       \n",
      "F                 15316           27456             55.783800\n",
      "M                 16259           38129             42.642083\n",
      "O                   495             916             54.039301\n"
     ]
    }
   ],
   "source": [
    "# Group by 'gender' and calculate the sum of offer status columns\n",
    "grouped_gender = df.groupby('gender')[['offer_completed', 'offer_received']].sum()\n",
    "\n",
    "# Calculate the percentage of completed offers out of received offers\n",
    "grouped_gender['percentage_completed'] = (grouped_gender['offer_completed'] / grouped_gender['offer_received']) * 100\n",
    "\n",
    "# Display the percentage of completed offers out of received offers\n",
    "print(grouped_gender)"
   ]
  },
  {
   "cell_type": "markdown",
   "metadata": {},
   "source": [
    "## Age"
   ]
  },
  {
   "cell_type": "code",
   "execution_count": 55,
   "metadata": {},
   "outputs": [
    {
     "data": {
      "image/png": "[encoded data removed]",
      "text/plain": [
       "<matplotlib.figure.Figure at 0x7fc6b4565978>"
      ]
     },
     "metadata": {
      "needs_background": "light"
     },
     "output_type": "display_data"
    }
   ],
   "source": [
    "# Calculate mean and median age\n",
    "mean_age = profile['age'].mean()\n",
    "median_age = profile['age'].median()\n",
    "\n",
    "# Display a histogram for the 'age' column with mean and median lines\n",
    "plt.figure(figsize=(8, 6))\n",
    "plt.hist(profile['age'], bins=20, color='skyblue', edgecolor='black')\n",
    "plt.axvline(mean_age, color='red', linestyle='dashed', linewidth=1, label=f'Mean Age: {mean_age:.2f}')\n",
    "plt.axvline(median_age, color='green', linestyle='dashed', linewidth=1, label=f'Median Age: {median_age}')\n",
    "plt.title('Distribution of Age')\n",
    "plt.xlabel('Age')\n",
    "plt.ylabel('Frequency')\n",
    "plt.legend()\n",
    "plt.grid(True)\n",
    "plt.show()"
   ]
  },
  {
   "cell_type": "code",
   "execution_count": 56,
   "metadata": {},
   "outputs": [
    {
     "data": {
      "image/png": "[encoded data removed]",
      "text/plain": [
       "<matplotlib.figure.Figure at 0x7fc6b458d048>"
      ]
     },
     "metadata": {
      "needs_background": "light"
     },
     "output_type": "display_data"
    }
   ],
   "source": [
    "age_bins = [18, 30, 40, 50, 60, 70, 100]  # You can adjust these bins according to your preference\n",
    "\n",
    "# Create age groups based on defined bins\n",
    "df['age_group'] = pd.cut(df['age'], bins=age_bins)\n",
    "\n",
    "# Group by 'age_group' and calculate the sum of offer status columns\n",
    "grouped_age = df.groupby('age_group')[['offer_completed', 'offer_received']].sum()\n",
    "\n",
    "# Calculate the percentage of completed offers within each age group\n",
    "grouped_age['percentage_completed'] = (grouped_age['offer_completed'] / grouped_age['offer_received']) * 100\n",
    "\n",
    "# Drop rows where 'offer received' count is zero to avoid division by zero\n",
    "grouped_age = grouped_age[grouped_age['offer_received'] > 0]\n",
    "\n",
    "# Plotting the percentage of completed offers within each age group\n",
    "plt.figure(figsize=(10, 6))\n",
    "plt.bar(grouped_age.index.astype(str), grouped_age['percentage_completed'])\n",
    "plt.title('Percentage of Completed Offers by Age Group')\n",
    "plt.xlabel('Age Group')\n",
    "plt.ylabel('Percentage Completed')\n",
    "plt.xticks(rotation=45)\n",
    "plt.show()"
   ]
  },
  {
   "cell_type": "markdown",
   "metadata": {},
   "source": [
    "## Most completed offers"
   ]
  },
  {
   "cell_type": "code",
   "execution_count": 57,
   "metadata": {},
   "outputs": [
    {
     "name": "stdout",
     "output_type": "stream",
     "text": [
      "Offer IDs completed the most:\n",
      "offer_id\n",
      "fafdcd668e3743c1bb461111dcafc2a4    5265\n",
      "2298d6c36e964ae4a3e7e9706d1fb8c2    5112\n",
      "9b98b8c7a33c4b65b9aebfe6a799e6d9    4303\n",
      "f19421c1d4aa40978ebb69ca19b0e20d    4262\n",
      "2906b810c7d4411798c6938adc9daaa5    3964\n",
      "Name: offer_completed, dtype: int64\n"
     ]
    }
   ],
   "source": [
    "# Group by 'offer_id' and calculate the sum of 'offer completed' for each offer\n",
    "offer_completion_counts = df[df['offer_completed'] == 1].groupby('offer_id')['offer_completed'].sum()\n",
    "\n",
    "# Sort the offer completion counts in descending order to find the most completed offers\n",
    "most_completed_offers = offer_completion_counts.sort_values(ascending=False)\n",
    "\n",
    "# Display the offer IDs that are completed the most\n",
    "print(\"Offer IDs completed the most:\")\n",
    "print(most_completed_offers.head())  # Display the top offer IDs with the highest completion counts\n"
   ]
  },
  {
   "cell_type": "code",
   "execution_count": 58,
   "metadata": {},
   "outputs": [],
   "source": [
    "# Much more possible factors"
   ]
  },
  {
   "cell_type": "markdown",
   "metadata": {},
   "source": [
    "# Data Preparation for ML Model"
   ]
  },
  {
   "cell_type": "markdown",
   "metadata": {},
   "source": [
    "## Further Data Preparation"
   ]
  },
  {
   "cell_type": "code",
   "execution_count": 59,
   "metadata": {},
   "outputs": [
    {
     "name": "stdout",
     "output_type": "stream",
     "text": [
      "Head:\n",
      "                         customer_id  time  offer_completed  offer_received  \\\n",
      "0  78afa995795e4d85b5d9ceeca43f5fef     0                0               1   \n",
      "1  a03223e636434f42ac4c3df47e8bac43     0                0               1   \n",
      "2  e2127556f4f64592b11af22de27a7932     0                0               1   \n",
      "3  8ec6ce2a7e7949b1bf142def7d0e0586     0                0               1   \n",
      "4  68617ca6246f4fbc85e91a2a49552598     0                0               1   \n",
      "\n",
      "   offer_viewed  transaction  amount                          offer_id  \\\n",
      "0             0            0     NaN  9b98b8c7a33c4b65b9aebfe6a799e6d9   \n",
      "1             0            0     NaN  0b1e1539f2cc45b7b9fa7c272da2e1d7   \n",
      "2             0            0     NaN  2906b810c7d4411798c6938adc9daaa5   \n",
      "3             0            0     NaN  fafdcd668e3743c1bb461111dcafc2a4   \n",
      "4             0            0     NaN  4d5c57ea9a6940dd891ad53e9dbe8da0   \n",
      "\n",
      "   rewards   age became_member_on gender    income  membership_duration  \\\n",
      "0      NaN  75.0       2017-05-09      F  100000.0               2394.0   \n",
      "1      NaN   NaN              NaT    NaN       NaN                  NaN   \n",
      "2      NaN  68.0       2018-04-26      M   70000.0               2042.0   \n",
      "3      NaN   NaN              NaT    NaN       NaN                  NaN   \n",
      "4      NaN   NaN              NaT    NaN       NaN                  NaN   \n",
      "\n",
      "   difficulty  duration offer_type  reward  social  web  mobile  email  \\\n",
      "0         5.0       7.0       bogo     5.0       0    1       1      1   \n",
      "1        20.0      10.0   discount     5.0       0    1       0      1   \n",
      "2        10.0       7.0   discount     2.0       0    1       1      1   \n",
      "3        10.0      10.0   discount     2.0       1    1       1      1   \n",
      "4        10.0       5.0       bogo    10.0       1    1       1      1   \n",
      "\n",
      "   age_group  \n",
      "0  (70, 100]  \n",
      "1        NaN  \n",
      "2   (60, 70]  \n",
      "3        NaN  \n",
      "4        NaN   \n",
      "\n",
      "Describe:\n",
      "                 time  offer_completed  offer_received   offer_viewed  \\\n",
      "count  306137.000000    306137.000000   306137.000000  306137.000000   \n",
      "mean      366.185015         0.108389        0.249160       0.188559   \n",
      "std       200.348174         0.310872        0.432527       0.391159   \n",
      "min         0.000000         0.000000        0.000000       0.000000   \n",
      "25%       186.000000         0.000000        0.000000       0.000000   \n",
      "50%       408.000000         0.000000        0.000000       0.000000   \n",
      "75%       528.000000         0.000000        0.000000       0.000000   \n",
      "max       714.000000         1.000000        1.000000       1.000000   \n",
      "\n",
      "         transaction         amount       rewards            age  \\\n",
      "count  306137.000000  138953.000000  33182.000000  272388.000000   \n",
      "mean        0.453892      12.777356      4.902628      53.838565   \n",
      "std         0.497870      30.250529      2.887201      17.551277   \n",
      "min         0.000000       0.050000      2.000000      18.000000   \n",
      "25%         0.000000       2.780000      2.000000      41.000000   \n",
      "50%         0.000000       8.890000      5.000000      55.000000   \n",
      "75%         1.000000      18.070000      5.000000      66.000000   \n",
      "max         1.000000    1062.280000     10.000000     101.000000   \n",
      "\n",
      "              income  membership_duration     difficulty       duration  \\\n",
      "count  272388.000000        272388.000000  167184.000000  167184.000000   \n",
      "mean    64328.153223          2532.315535       7.843843       6.608210   \n",
      "std     21241.306119           428.863281       5.046996       2.136267   \n",
      "min     30000.000000          1951.000000       0.000000       3.000000   \n",
      "25%     48000.000000          2193.000000       5.000000       5.000000   \n",
      "50%     62000.000000          2422.000000      10.000000       7.000000   \n",
      "75%     78000.000000          2813.000000      10.000000       7.000000   \n",
      "max    120000.000000          3774.000000      20.000000      10.000000   \n",
      "\n",
      "              reward         social            web         mobile  \\\n",
      "count  167184.000000  306137.000000  306137.000000  306137.000000   \n",
      "mean        4.418461       0.358947       0.440554       0.501452   \n",
      "std         3.374401       0.479692       0.496454       0.499999   \n",
      "min         0.000000       0.000000       0.000000       0.000000   \n",
      "25%         2.000000       0.000000       0.000000       0.000000   \n",
      "50%         5.000000       0.000000       0.000000       1.000000   \n",
      "75%         5.000000       1.000000       1.000000       1.000000   \n",
      "max        10.000000       1.000000       1.000000       1.000000   \n",
      "\n",
      "               email  \n",
      "count  306137.000000  \n",
      "mean        0.546108  \n",
      "std         0.497870  \n",
      "min         0.000000  \n",
      "25%         0.000000  \n",
      "50%         1.000000  \n",
      "75%         1.000000  \n",
      "max         1.000000   \n",
      "\n",
      "Shape: (306137, 23) \n",
      "\n",
      "Data Types:\n",
      " customer_id                    object\n",
      "time                            int64\n",
      "offer_completed                 int64\n",
      "offer_received                  int64\n",
      "offer_viewed                    int64\n",
      "transaction                     int64\n",
      "amount                        float64\n",
      "offer_id                       object\n",
      "rewards                       float64\n",
      "age                           float64\n",
      "became_member_on       datetime64[ns]\n",
      "gender                         object\n",
      "income                        float64\n",
      "membership_duration           float64\n",
      "difficulty                    float64\n",
      "duration                      float64\n",
      "offer_type                     object\n",
      "reward                        float64\n",
      "social                          int64\n",
      "web                             int64\n",
      "mobile                          int64\n",
      "email                           int64\n",
      "age_group                    category\n",
      "dtype: object \n",
      "\n",
      "Null Value Counts:\n",
      " customer_id                 0\n",
      "time                        0\n",
      "offer_completed             0\n",
      "offer_received              0\n",
      "offer_viewed                0\n",
      "transaction                 0\n",
      "amount                 167184\n",
      "offer_id               138953\n",
      "rewards                272955\n",
      "age                     33749\n",
      "became_member_on        33749\n",
      "gender                  33749\n",
      "income                  33749\n",
      "membership_duration     33749\n",
      "difficulty             138953\n",
      "duration               138953\n",
      "offer_type             138953\n",
      "reward                 138953\n",
      "social                      0\n",
      "web                         0\n",
      "mobile                      0\n",
      "email                       0\n",
      "age_group               35211\n",
      "dtype: int64\n",
      "\n",
      "Percentage of Null Values:\n",
      " customer_id             0.000000\n",
      "time                    0.000000\n",
      "offer_completed         0.000000\n",
      "offer_received          0.000000\n",
      "offer_viewed            0.000000\n",
      "transaction             0.000000\n",
      "amount                 54.610844\n",
      "offer_id               45.389156\n",
      "rewards                89.161062\n",
      "age                    11.024149\n",
      "became_member_on       11.024149\n",
      "gender                 11.024149\n",
      "income                 11.024149\n",
      "membership_duration    11.024149\n",
      "difficulty             45.389156\n",
      "duration               45.389156\n",
      "offer_type             45.389156\n",
      "reward                 45.389156\n",
      "social                  0.000000\n",
      "web                     0.000000\n",
      "mobile                  0.000000\n",
      "email                   0.000000\n",
      "age_group              11.501713\n",
      "dtype: float64\n"
     ]
    }
   ],
   "source": [
    "dataframe_summary(df)"
   ]
  },
  {
   "cell_type": "code",
   "execution_count": 60,
   "metadata": {},
   "outputs": [
    {
     "data": {
      "text/html": [
       "<div>\n",
       "<style scoped>\n",
       "    .dataframe tbody tr th:only-of-type {\n",
       "        vertical-align: middle;\n",
       "    }\n",
       "\n",
       "    .dataframe tbody tr th {\n",
       "        vertical-align: top;\n",
       "    }\n",
       "\n",
       "    .dataframe thead th {\n",
       "        text-align: right;\n",
       "    }\n",
       "</style>\n",
       "<table border=\"1\" class=\"dataframe\">\n",
       "  <thead>\n",
       "    <tr style=\"text-align: right;\">\n",
       "      <th></th>\n",
       "      <th>age</th>\n",
       "      <th>age_class</th>\n",
       "      <th>age_class_encoded</th>\n",
       "    </tr>\n",
       "  </thead>\n",
       "  <tbody>\n",
       "    <tr>\n",
       "      <th>0</th>\n",
       "      <td>75.0</td>\n",
       "      <td>Elderly</td>\n",
       "      <td>5.0</td>\n",
       "    </tr>\n",
       "    <tr>\n",
       "      <th>1</th>\n",
       "      <td>NaN</td>\n",
       "      <td>NaN</td>\n",
       "      <td>NaN</td>\n",
       "    </tr>\n",
       "    <tr>\n",
       "      <th>2</th>\n",
       "      <td>68.0</td>\n",
       "      <td>Senior</td>\n",
       "      <td>4.0</td>\n",
       "    </tr>\n",
       "    <tr>\n",
       "      <th>3</th>\n",
       "      <td>NaN</td>\n",
       "      <td>NaN</td>\n",
       "      <td>NaN</td>\n",
       "    </tr>\n",
       "    <tr>\n",
       "      <th>4</th>\n",
       "      <td>NaN</td>\n",
       "      <td>NaN</td>\n",
       "      <td>NaN</td>\n",
       "    </tr>\n",
       "  </tbody>\n",
       "</table>\n",
       "</div>"
      ],
      "text/plain": [
       "    age age_class  age_class_encoded\n",
       "0  75.0   Elderly                5.0\n",
       "1   NaN       NaN                NaN\n",
       "2  68.0    Senior                4.0\n",
       "3   NaN       NaN                NaN\n",
       "4   NaN       NaN                NaN"
      ]
     },
     "execution_count": 60,
     "metadata": {},
     "output_type": "execute_result"
    }
   ],
   "source": [
    "# Create 5 age classes based on quantiles\n",
    "df['age_class'] = pd.qcut(df['age'], q=5, labels=['Young', 'Adult', 'Middle-aged', 'Senior', 'Elderly'])\n",
    "\n",
    "# Mapping dictionary for age classes\n",
    "age_class_mapping = {'Young': 1, 'Adult': 2, 'Middle-aged': 3, 'Senior': 4, 'Elderly': 5}\n",
    "\n",
    "# Map the age classes to numeric values\n",
    "df['age_class_encoded'] = df['age_class'].map(age_class_mapping)\n",
    "\n",
    "# Display the DataFrame with the new 'age_class' column and its encoded values\n",
    "df[['age', 'age_class', 'age_class_encoded']].head()"
   ]
  },
  {
   "cell_type": "code",
   "execution_count": 61,
   "metadata": {},
   "outputs": [
    {
     "data": {
      "text/html": [
       "<div>\n",
       "<style scoped>\n",
       "    .dataframe tbody tr th:only-of-type {\n",
       "        vertical-align: middle;\n",
       "    }\n",
       "\n",
       "    .dataframe tbody tr th {\n",
       "        vertical-align: top;\n",
       "    }\n",
       "\n",
       "    .dataframe thead th {\n",
       "        text-align: right;\n",
       "    }\n",
       "</style>\n",
       "<table border=\"1\" class=\"dataframe\">\n",
       "  <thead>\n",
       "    <tr style=\"text-align: right;\">\n",
       "      <th></th>\n",
       "      <th>income</th>\n",
       "      <th>income_class</th>\n",
       "      <th>income_class_encoded</th>\n",
       "    </tr>\n",
       "  </thead>\n",
       "  <tbody>\n",
       "    <tr>\n",
       "      <th>0</th>\n",
       "      <td>100000.0</td>\n",
       "      <td>Very High</td>\n",
       "      <td>5.0</td>\n",
       "    </tr>\n",
       "    <tr>\n",
       "      <th>1</th>\n",
       "      <td>NaN</td>\n",
       "      <td>NaN</td>\n",
       "      <td>NaN</td>\n",
       "    </tr>\n",
       "    <tr>\n",
       "      <th>2</th>\n",
       "      <td>70000.0</td>\n",
       "      <td>High</td>\n",
       "      <td>4.0</td>\n",
       "    </tr>\n",
       "    <tr>\n",
       "      <th>3</th>\n",
       "      <td>NaN</td>\n",
       "      <td>NaN</td>\n",
       "      <td>NaN</td>\n",
       "    </tr>\n",
       "    <tr>\n",
       "      <th>4</th>\n",
       "      <td>NaN</td>\n",
       "      <td>NaN</td>\n",
       "      <td>NaN</td>\n",
       "    </tr>\n",
       "  </tbody>\n",
       "</table>\n",
       "</div>"
      ],
      "text/plain": [
       "     income income_class  income_class_encoded\n",
       "0  100000.0    Very High                   5.0\n",
       "1       NaN          NaN                   NaN\n",
       "2   70000.0         High                   4.0\n",
       "3       NaN          NaN                   NaN\n",
       "4       NaN          NaN                   NaN"
      ]
     },
     "execution_count": 61,
     "metadata": {},
     "output_type": "execute_result"
    }
   ],
   "source": [
    "# Create 5 income classes based on quantiles\n",
    "df['income_class'] = pd.qcut(df['income'], q=5, labels=['Very Low', 'Low', 'Moderate', 'High', 'Very High'])\n",
    "\n",
    "# Mapping dictionary for income classes\n",
    "income_class_mapping = {'Very Low': 1, 'Low': 2, 'Moderate': 3, 'High': 4, 'Very High': 5}\n",
    "\n",
    "# Map the income classes to numeric values\n",
    "df['income_class_encoded'] = df['income_class'].map(income_class_mapping)\n",
    "\n",
    "# Display the DataFrame with the new 'income_class' column and its encoded values\n",
    "df[['income', 'income_class', 'income_class_encoded']].head()"
   ]
  },
  {
   "cell_type": "code",
   "execution_count": 62,
   "metadata": {},
   "outputs": [
    {
     "name": "stdout",
     "output_type": "stream",
     "text": [
      "0      F\n",
      "1    NaN\n",
      "2      M\n",
      "3    NaN\n",
      "4    NaN\n",
      "Name: gender, dtype: object\n"
     ]
    }
   ],
   "source": [
    "# Display the 'gender' column\n",
    "print(df['gender'].head())"
   ]
  },
  {
   "cell_type": "code",
   "execution_count": 63,
   "metadata": {},
   "outputs": [
    {
     "data": {
      "text/plain": [
       "(306137, 27)"
      ]
     },
     "execution_count": 63,
     "metadata": {},
     "output_type": "execute_result"
    }
   ],
   "source": [
    "df.shape"
   ]
  },
  {
   "cell_type": "code",
   "execution_count": 64,
   "metadata": {},
   "outputs": [],
   "source": [
    "# Due to the low percentage I'll drop NaN columns of 'age' bzw. 'gender' column\n",
    "df = df.dropna(subset=['age'])\n",
    "\n",
    "# Reset the index after dropping rows\n",
    "df.reset_index(drop=True, inplace=True)"
   ]
  },
  {
   "cell_type": "code",
   "execution_count": 65,
   "metadata": {},
   "outputs": [
    {
     "data": {
      "text/plain": [
       "(272388, 27)"
      ]
     },
     "execution_count": 65,
     "metadata": {},
     "output_type": "execute_result"
    }
   ],
   "source": [
    "df.shape"
   ]
  },
  {
   "cell_type": "code",
   "execution_count": 66,
   "metadata": {},
   "outputs": [],
   "source": [
    "def encode_gender(df):\n",
    "    \"\"\"\n",
    "    Encodes the 'gender' column values to numeric representations.\n",
    "\n",
    "    Parameters:\n",
    "    - df: DataFrame to be processed.\n",
    "\n",
    "    Returns:\n",
    "    - DataFrame with 'gender' column values encoded to numeric representations.\n",
    "    \"\"\"\n",
    "    # Create a dictionary to map genders to numeric values\n",
    "    gender_mapping = {'F': 1, 'M': 2, 'O': 3}\n",
    "\n",
    "    # Create a copy of the DataFrame to avoid the SettingWithCopyWarning\n",
    "    df_copy = df.copy()\n",
    "\n",
    "    # Map the gender values to their corresponding numeric values using the dictionary\n",
    "    df_copy['gender'] = df_copy['gender'].map(gender_mapping).fillna(0).astype(int)\n",
    "\n",
    "    return df_copy\n"
   ]
  },
  {
   "cell_type": "code",
   "execution_count": 67,
   "metadata": {},
   "outputs": [
    {
     "data": {
      "text/html": [
       "<div>\n",
       "<style scoped>\n",
       "    .dataframe tbody tr th:only-of-type {\n",
       "        vertical-align: middle;\n",
       "    }\n",
       "\n",
       "    .dataframe tbody tr th {\n",
       "        vertical-align: top;\n",
       "    }\n",
       "\n",
       "    .dataframe thead th {\n",
       "        text-align: right;\n",
       "    }\n",
       "</style>\n",
       "<table border=\"1\" class=\"dataframe\">\n",
       "  <thead>\n",
       "    <tr style=\"text-align: right;\">\n",
       "      <th></th>\n",
       "      <th>customer_id</th>\n",
       "      <th>time</th>\n",
       "      <th>offer_completed</th>\n",
       "      <th>offer_received</th>\n",
       "      <th>offer_viewed</th>\n",
       "      <th>transaction</th>\n",
       "      <th>amount</th>\n",
       "      <th>offer_id</th>\n",
       "      <th>rewards</th>\n",
       "      <th>age</th>\n",
       "      <th>became_member_on</th>\n",
       "      <th>gender</th>\n",
       "      <th>income</th>\n",
       "      <th>membership_duration</th>\n",
       "      <th>difficulty</th>\n",
       "      <th>duration</th>\n",
       "      <th>offer_type</th>\n",
       "      <th>reward</th>\n",
       "      <th>social</th>\n",
       "      <th>web</th>\n",
       "      <th>mobile</th>\n",
       "      <th>email</th>\n",
       "      <th>age_group</th>\n",
       "      <th>age_class</th>\n",
       "      <th>age_class_encoded</th>\n",
       "      <th>income_class</th>\n",
       "      <th>income_class_encoded</th>\n",
       "    </tr>\n",
       "  </thead>\n",
       "  <tbody>\n",
       "    <tr>\n",
       "      <th>0</th>\n",
       "      <td>78afa995795e4d85b5d9ceeca43f5fef</td>\n",
       "      <td>0</td>\n",
       "      <td>0</td>\n",
       "      <td>1</td>\n",
       "      <td>0</td>\n",
       "      <td>0</td>\n",
       "      <td>NaN</td>\n",
       "      <td>9b98b8c7a33c4b65b9aebfe6a799e6d9</td>\n",
       "      <td>NaN</td>\n",
       "      <td>75.0</td>\n",
       "      <td>2017-05-09</td>\n",
       "      <td>1</td>\n",
       "      <td>100000.0</td>\n",
       "      <td>2394.0</td>\n",
       "      <td>5.0</td>\n",
       "      <td>7.0</td>\n",
       "      <td>bogo</td>\n",
       "      <td>5.0</td>\n",
       "      <td>0</td>\n",
       "      <td>1</td>\n",
       "      <td>1</td>\n",
       "      <td>1</td>\n",
       "      <td>(70, 100]</td>\n",
       "      <td>Elderly</td>\n",
       "      <td>5.0</td>\n",
       "      <td>Very High</td>\n",
       "      <td>5.0</td>\n",
       "    </tr>\n",
       "    <tr>\n",
       "      <th>1</th>\n",
       "      <td>e2127556f4f64592b11af22de27a7932</td>\n",
       "      <td>0</td>\n",
       "      <td>0</td>\n",
       "      <td>1</td>\n",
       "      <td>0</td>\n",
       "      <td>0</td>\n",
       "      <td>NaN</td>\n",
       "      <td>2906b810c7d4411798c6938adc9daaa5</td>\n",
       "      <td>NaN</td>\n",
       "      <td>68.0</td>\n",
       "      <td>2018-04-26</td>\n",
       "      <td>2</td>\n",
       "      <td>70000.0</td>\n",
       "      <td>2042.0</td>\n",
       "      <td>10.0</td>\n",
       "      <td>7.0</td>\n",
       "      <td>discount</td>\n",
       "      <td>2.0</td>\n",
       "      <td>0</td>\n",
       "      <td>1</td>\n",
       "      <td>1</td>\n",
       "      <td>1</td>\n",
       "      <td>(60, 70]</td>\n",
       "      <td>Senior</td>\n",
       "      <td>4.0</td>\n",
       "      <td>High</td>\n",
       "      <td>4.0</td>\n",
       "    </tr>\n",
       "    <tr>\n",
       "      <th>2</th>\n",
       "      <td>389bc3fa690240e798340f5a15918d5c</td>\n",
       "      <td>0</td>\n",
       "      <td>0</td>\n",
       "      <td>1</td>\n",
       "      <td>0</td>\n",
       "      <td>0</td>\n",
       "      <td>NaN</td>\n",
       "      <td>f19421c1d4aa40978ebb69ca19b0e20d</td>\n",
       "      <td>NaN</td>\n",
       "      <td>65.0</td>\n",
       "      <td>2018-02-09</td>\n",
       "      <td>2</td>\n",
       "      <td>53000.0</td>\n",
       "      <td>2118.0</td>\n",
       "      <td>5.0</td>\n",
       "      <td>5.0</td>\n",
       "      <td>bogo</td>\n",
       "      <td>5.0</td>\n",
       "      <td>1</td>\n",
       "      <td>1</td>\n",
       "      <td>1</td>\n",
       "      <td>1</td>\n",
       "      <td>(60, 70]</td>\n",
       "      <td>Senior</td>\n",
       "      <td>4.0</td>\n",
       "      <td>Low</td>\n",
       "      <td>2.0</td>\n",
       "    </tr>\n",
       "    <tr>\n",
       "      <th>3</th>\n",
       "      <td>2eeac8d8feae4a8cad5a6af0499a211d</td>\n",
       "      <td>0</td>\n",
       "      <td>0</td>\n",
       "      <td>1</td>\n",
       "      <td>0</td>\n",
       "      <td>0</td>\n",
       "      <td>NaN</td>\n",
       "      <td>3f207df678b143eea3cee63160fa8bed</td>\n",
       "      <td>NaN</td>\n",
       "      <td>58.0</td>\n",
       "      <td>2017-11-11</td>\n",
       "      <td>2</td>\n",
       "      <td>51000.0</td>\n",
       "      <td>2208.0</td>\n",
       "      <td>0.0</td>\n",
       "      <td>4.0</td>\n",
       "      <td>informational</td>\n",
       "      <td>0.0</td>\n",
       "      <td>0</td>\n",
       "      <td>1</td>\n",
       "      <td>1</td>\n",
       "      <td>1</td>\n",
       "      <td>(50, 60]</td>\n",
       "      <td>Middle-aged</td>\n",
       "      <td>3.0</td>\n",
       "      <td>Low</td>\n",
       "      <td>2.0</td>\n",
       "    </tr>\n",
       "    <tr>\n",
       "      <th>4</th>\n",
       "      <td>aa4862eba776480b8bb9c68455b8c2e1</td>\n",
       "      <td>0</td>\n",
       "      <td>0</td>\n",
       "      <td>1</td>\n",
       "      <td>0</td>\n",
       "      <td>0</td>\n",
       "      <td>NaN</td>\n",
       "      <td>0b1e1539f2cc45b7b9fa7c272da2e1d7</td>\n",
       "      <td>NaN</td>\n",
       "      <td>61.0</td>\n",
       "      <td>2017-09-11</td>\n",
       "      <td>1</td>\n",
       "      <td>57000.0</td>\n",
       "      <td>2269.0</td>\n",
       "      <td>20.0</td>\n",
       "      <td>10.0</td>\n",
       "      <td>discount</td>\n",
       "      <td>5.0</td>\n",
       "      <td>0</td>\n",
       "      <td>1</td>\n",
       "      <td>0</td>\n",
       "      <td>1</td>\n",
       "      <td>(60, 70]</td>\n",
       "      <td>Senior</td>\n",
       "      <td>4.0</td>\n",
       "      <td>Low</td>\n",
       "      <td>2.0</td>\n",
       "    </tr>\n",
       "  </tbody>\n",
       "</table>\n",
       "</div>"
      ],
      "text/plain": [
       "                        customer_id  time  offer_completed  offer_received  \\\n",
       "0  78afa995795e4d85b5d9ceeca43f5fef     0                0               1   \n",
       "1  e2127556f4f64592b11af22de27a7932     0                0               1   \n",
       "2  389bc3fa690240e798340f5a15918d5c     0                0               1   \n",
       "3  2eeac8d8feae4a8cad5a6af0499a211d     0                0               1   \n",
       "4  aa4862eba776480b8bb9c68455b8c2e1     0                0               1   \n",
       "\n",
       "   offer_viewed  transaction  amount                          offer_id  \\\n",
       "0             0            0     NaN  9b98b8c7a33c4b65b9aebfe6a799e6d9   \n",
       "1             0            0     NaN  2906b810c7d4411798c6938adc9daaa5   \n",
       "2             0            0     NaN  f19421c1d4aa40978ebb69ca19b0e20d   \n",
       "3             0            0     NaN  3f207df678b143eea3cee63160fa8bed   \n",
       "4             0            0     NaN  0b1e1539f2cc45b7b9fa7c272da2e1d7   \n",
       "\n",
       "   rewards   age became_member_on  gender    income  membership_duration  \\\n",
       "0      NaN  75.0       2017-05-09       1  100000.0               2394.0   \n",
       "1      NaN  68.0       2018-04-26       2   70000.0               2042.0   \n",
       "2      NaN  65.0       2018-02-09       2   53000.0               2118.0   \n",
       "3      NaN  58.0       2017-11-11       2   51000.0               2208.0   \n",
       "4      NaN  61.0       2017-09-11       1   57000.0               2269.0   \n",
       "\n",
       "   difficulty  duration     offer_type  reward  social  web  mobile  email  \\\n",
       "0         5.0       7.0           bogo     5.0       0    1       1      1   \n",
       "1        10.0       7.0       discount     2.0       0    1       1      1   \n",
       "2         5.0       5.0           bogo     5.0       1    1       1      1   \n",
       "3         0.0       4.0  informational     0.0       0    1       1      1   \n",
       "4        20.0      10.0       discount     5.0       0    1       0      1   \n",
       "\n",
       "   age_group    age_class  age_class_encoded income_class  \\\n",
       "0  (70, 100]      Elderly                5.0    Very High   \n",
       "1   (60, 70]       Senior                4.0         High   \n",
       "2   (60, 70]       Senior                4.0          Low   \n",
       "3   (50, 60]  Middle-aged                3.0          Low   \n",
       "4   (60, 70]       Senior                4.0          Low   \n",
       "\n",
       "   income_class_encoded  \n",
       "0                   5.0  \n",
       "1                   4.0  \n",
       "2                   2.0  \n",
       "3                   2.0  \n",
       "4                   2.0  "
      ]
     },
     "execution_count": 67,
     "metadata": {},
     "output_type": "execute_result"
    }
   ],
   "source": [
    "df = encode_gender(df)\n",
    "df.head()"
   ]
  },
  {
   "cell_type": "code",
   "execution_count": 68,
   "metadata": {},
   "outputs": [
    {
     "data": {
      "text/html": [
       "<div>\n",
       "<style scoped>\n",
       "    .dataframe tbody tr th:only-of-type {\n",
       "        vertical-align: middle;\n",
       "    }\n",
       "\n",
       "    .dataframe tbody tr th {\n",
       "        vertical-align: top;\n",
       "    }\n",
       "\n",
       "    .dataframe thead th {\n",
       "        text-align: right;\n",
       "    }\n",
       "</style>\n",
       "<table border=\"1\" class=\"dataframe\">\n",
       "  <thead>\n",
       "    <tr style=\"text-align: right;\">\n",
       "      <th></th>\n",
       "      <th>customer_id</th>\n",
       "      <th>time</th>\n",
       "      <th>offer_completed</th>\n",
       "      <th>offer_received</th>\n",
       "      <th>offer_viewed</th>\n",
       "      <th>transaction</th>\n",
       "      <th>amount</th>\n",
       "      <th>offer_id</th>\n",
       "      <th>rewards</th>\n",
       "      <th>age</th>\n",
       "      <th>became_member_on</th>\n",
       "      <th>gender</th>\n",
       "      <th>income</th>\n",
       "      <th>membership_duration</th>\n",
       "      <th>difficulty</th>\n",
       "      <th>duration</th>\n",
       "      <th>offer_type</th>\n",
       "      <th>reward</th>\n",
       "      <th>social</th>\n",
       "      <th>web</th>\n",
       "      <th>mobile</th>\n",
       "      <th>email</th>\n",
       "      <th>age_group</th>\n",
       "      <th>age_class</th>\n",
       "      <th>age_class_encoded</th>\n",
       "      <th>income_class</th>\n",
       "      <th>income_class_encoded</th>\n",
       "      <th>year_joined</th>\n",
       "    </tr>\n",
       "  </thead>\n",
       "  <tbody>\n",
       "    <tr>\n",
       "      <th>0</th>\n",
       "      <td>78afa995795e4d85b5d9ceeca43f5fef</td>\n",
       "      <td>0</td>\n",
       "      <td>0</td>\n",
       "      <td>1</td>\n",
       "      <td>0</td>\n",
       "      <td>0</td>\n",
       "      <td>NaN</td>\n",
       "      <td>9b98b8c7a33c4b65b9aebfe6a799e6d9</td>\n",
       "      <td>NaN</td>\n",
       "      <td>75.0</td>\n",
       "      <td>2017-05-09</td>\n",
       "      <td>1</td>\n",
       "      <td>100000.0</td>\n",
       "      <td>2394.0</td>\n",
       "      <td>5.0</td>\n",
       "      <td>7.0</td>\n",
       "      <td>bogo</td>\n",
       "      <td>5.0</td>\n",
       "      <td>0</td>\n",
       "      <td>1</td>\n",
       "      <td>1</td>\n",
       "      <td>1</td>\n",
       "      <td>(70, 100]</td>\n",
       "      <td>Elderly</td>\n",
       "      <td>5.0</td>\n",
       "      <td>Very High</td>\n",
       "      <td>5.0</td>\n",
       "      <td>2017</td>\n",
       "    </tr>\n",
       "    <tr>\n",
       "      <th>1</th>\n",
       "      <td>e2127556f4f64592b11af22de27a7932</td>\n",
       "      <td>0</td>\n",
       "      <td>0</td>\n",
       "      <td>1</td>\n",
       "      <td>0</td>\n",
       "      <td>0</td>\n",
       "      <td>NaN</td>\n",
       "      <td>2906b810c7d4411798c6938adc9daaa5</td>\n",
       "      <td>NaN</td>\n",
       "      <td>68.0</td>\n",
       "      <td>2018-04-26</td>\n",
       "      <td>2</td>\n",
       "      <td>70000.0</td>\n",
       "      <td>2042.0</td>\n",
       "      <td>10.0</td>\n",
       "      <td>7.0</td>\n",
       "      <td>discount</td>\n",
       "      <td>2.0</td>\n",
       "      <td>0</td>\n",
       "      <td>1</td>\n",
       "      <td>1</td>\n",
       "      <td>1</td>\n",
       "      <td>(60, 70]</td>\n",
       "      <td>Senior</td>\n",
       "      <td>4.0</td>\n",
       "      <td>High</td>\n",
       "      <td>4.0</td>\n",
       "      <td>2018</td>\n",
       "    </tr>\n",
       "    <tr>\n",
       "      <th>2</th>\n",
       "      <td>389bc3fa690240e798340f5a15918d5c</td>\n",
       "      <td>0</td>\n",
       "      <td>0</td>\n",
       "      <td>1</td>\n",
       "      <td>0</td>\n",
       "      <td>0</td>\n",
       "      <td>NaN</td>\n",
       "      <td>f19421c1d4aa40978ebb69ca19b0e20d</td>\n",
       "      <td>NaN</td>\n",
       "      <td>65.0</td>\n",
       "      <td>2018-02-09</td>\n",
       "      <td>2</td>\n",
       "      <td>53000.0</td>\n",
       "      <td>2118.0</td>\n",
       "      <td>5.0</td>\n",
       "      <td>5.0</td>\n",
       "      <td>bogo</td>\n",
       "      <td>5.0</td>\n",
       "      <td>1</td>\n",
       "      <td>1</td>\n",
       "      <td>1</td>\n",
       "      <td>1</td>\n",
       "      <td>(60, 70]</td>\n",
       "      <td>Senior</td>\n",
       "      <td>4.0</td>\n",
       "      <td>Low</td>\n",
       "      <td>2.0</td>\n",
       "      <td>2018</td>\n",
       "    </tr>\n",
       "    <tr>\n",
       "      <th>3</th>\n",
       "      <td>2eeac8d8feae4a8cad5a6af0499a211d</td>\n",
       "      <td>0</td>\n",
       "      <td>0</td>\n",
       "      <td>1</td>\n",
       "      <td>0</td>\n",
       "      <td>0</td>\n",
       "      <td>NaN</td>\n",
       "      <td>3f207df678b143eea3cee63160fa8bed</td>\n",
       "      <td>NaN</td>\n",
       "      <td>58.0</td>\n",
       "      <td>2017-11-11</td>\n",
       "      <td>2</td>\n",
       "      <td>51000.0</td>\n",
       "      <td>2208.0</td>\n",
       "      <td>0.0</td>\n",
       "      <td>4.0</td>\n",
       "      <td>informational</td>\n",
       "      <td>0.0</td>\n",
       "      <td>0</td>\n",
       "      <td>1</td>\n",
       "      <td>1</td>\n",
       "      <td>1</td>\n",
       "      <td>(50, 60]</td>\n",
       "      <td>Middle-aged</td>\n",
       "      <td>3.0</td>\n",
       "      <td>Low</td>\n",
       "      <td>2.0</td>\n",
       "      <td>2017</td>\n",
       "    </tr>\n",
       "    <tr>\n",
       "      <th>4</th>\n",
       "      <td>aa4862eba776480b8bb9c68455b8c2e1</td>\n",
       "      <td>0</td>\n",
       "      <td>0</td>\n",
       "      <td>1</td>\n",
       "      <td>0</td>\n",
       "      <td>0</td>\n",
       "      <td>NaN</td>\n",
       "      <td>0b1e1539f2cc45b7b9fa7c272da2e1d7</td>\n",
       "      <td>NaN</td>\n",
       "      <td>61.0</td>\n",
       "      <td>2017-09-11</td>\n",
       "      <td>1</td>\n",
       "      <td>57000.0</td>\n",
       "      <td>2269.0</td>\n",
       "      <td>20.0</td>\n",
       "      <td>10.0</td>\n",
       "      <td>discount</td>\n",
       "      <td>5.0</td>\n",
       "      <td>0</td>\n",
       "      <td>1</td>\n",
       "      <td>0</td>\n",
       "      <td>1</td>\n",
       "      <td>(60, 70]</td>\n",
       "      <td>Senior</td>\n",
       "      <td>4.0</td>\n",
       "      <td>Low</td>\n",
       "      <td>2.0</td>\n",
       "      <td>2017</td>\n",
       "    </tr>\n",
       "  </tbody>\n",
       "</table>\n",
       "</div>"
      ],
      "text/plain": [
       "                        customer_id  time  offer_completed  offer_received  \\\n",
       "0  78afa995795e4d85b5d9ceeca43f5fef     0                0               1   \n",
       "1  e2127556f4f64592b11af22de27a7932     0                0               1   \n",
       "2  389bc3fa690240e798340f5a15918d5c     0                0               1   \n",
       "3  2eeac8d8feae4a8cad5a6af0499a211d     0                0               1   \n",
       "4  aa4862eba776480b8bb9c68455b8c2e1     0                0               1   \n",
       "\n",
       "   offer_viewed  transaction  amount                          offer_id  \\\n",
       "0             0            0     NaN  9b98b8c7a33c4b65b9aebfe6a799e6d9   \n",
       "1             0            0     NaN  2906b810c7d4411798c6938adc9daaa5   \n",
       "2             0            0     NaN  f19421c1d4aa40978ebb69ca19b0e20d   \n",
       "3             0            0     NaN  3f207df678b143eea3cee63160fa8bed   \n",
       "4             0            0     NaN  0b1e1539f2cc45b7b9fa7c272da2e1d7   \n",
       "\n",
       "   rewards   age became_member_on  gender    income  membership_duration  \\\n",
       "0      NaN  75.0       2017-05-09       1  100000.0               2394.0   \n",
       "1      NaN  68.0       2018-04-26       2   70000.0               2042.0   \n",
       "2      NaN  65.0       2018-02-09       2   53000.0               2118.0   \n",
       "3      NaN  58.0       2017-11-11       2   51000.0               2208.0   \n",
       "4      NaN  61.0       2017-09-11       1   57000.0               2269.0   \n",
       "\n",
       "   difficulty  duration     offer_type  reward  social  web  mobile  email  \\\n",
       "0         5.0       7.0           bogo     5.0       0    1       1      1   \n",
       "1        10.0       7.0       discount     2.0       0    1       1      1   \n",
       "2         5.0       5.0           bogo     5.0       1    1       1      1   \n",
       "3         0.0       4.0  informational     0.0       0    1       1      1   \n",
       "4        20.0      10.0       discount     5.0       0    1       0      1   \n",
       "\n",
       "   age_group    age_class  age_class_encoded income_class  \\\n",
       "0  (70, 100]      Elderly                5.0    Very High   \n",
       "1   (60, 70]       Senior                4.0         High   \n",
       "2   (60, 70]       Senior                4.0          Low   \n",
       "3   (50, 60]  Middle-aged                3.0          Low   \n",
       "4   (60, 70]       Senior                4.0          Low   \n",
       "\n",
       "   income_class_encoded  year_joined  \n",
       "0                   5.0         2017  \n",
       "1                   4.0         2018  \n",
       "2                   2.0         2018  \n",
       "3                   2.0         2017  \n",
       "4                   2.0         2017  "
      ]
     },
     "execution_count": 68,
     "metadata": {},
     "output_type": "execute_result"
    }
   ],
   "source": [
    "df['year_joined'] = df['became_member_on'].dt.year\n",
    "df.head()"
   ]
  },
  {
   "cell_type": "code",
   "execution_count": 69,
   "metadata": {},
   "outputs": [],
   "source": [
    "# Now we still have NaN values in 'age_group' column. Maybe because they couldnt be transmitted. I'll drop 'em."
   ]
  },
  {
   "cell_type": "code",
   "execution_count": 70,
   "metadata": {},
   "outputs": [],
   "source": [
    "# Due to the low percentage I'll drop NaN columns of 'age_group'\n",
    "df = df.dropna(subset=['age_group'])\n",
    "\n",
    "# Reset the index after dropping rows\n",
    "df.reset_index(drop=True, inplace=True)"
   ]
  },
  {
   "cell_type": "code",
   "execution_count": 71,
   "metadata": {},
   "outputs": [
    {
     "data": {
      "text/plain": [
       "(270926, 28)"
      ]
     },
     "execution_count": 71,
     "metadata": {},
     "output_type": "execute_result"
    }
   ],
   "source": [
    "df.shape"
   ]
  },
  {
   "cell_type": "code",
   "execution_count": 72,
   "metadata": {},
   "outputs": [],
   "source": [
    "# Now we still can see that in the amount and reward column are many null-values. I assume that there is no money spent ir earbed. So i fill them with 0.\n",
    "df['amount'].fillna(0, inplace=True)\n",
    "df['reward'].fillna(0, inplace=True)"
   ]
  },
  {
   "cell_type": "code",
   "execution_count": 73,
   "metadata": {},
   "outputs": [
    {
     "name": "stdout",
     "output_type": "stream",
     "text": [
      "Head:\n",
      "    time  amount  offer_completed  reward   age    income  gender  year_joined\n",
      "0     0     0.0                0     5.0  75.0  100000.0       1         2017\n",
      "1     0     0.0                0     2.0  68.0   70000.0       2         2018\n",
      "2     0     0.0                0     5.0  65.0   53000.0       2         2018\n",
      "3     0     0.0                0     0.0  58.0   51000.0       2         2017\n",
      "4     0     0.0                0     5.0  61.0   57000.0       1         2017 \n",
      "\n",
      "Describe:\n",
      "                 time         amount  offer_completed         reward  \\\n",
      "count  270926.000000  270926.000000    270926.000000  270926.000000   \n",
      "mean      366.490208       6.379720         0.117862       2.422086   \n",
      "std       200.362459      22.538371         0.322446       3.331640   \n",
      "min         0.000000       0.000000         0.000000       0.000000   \n",
      "25%       186.000000       0.000000         0.000000       0.000000   \n",
      "50%       408.000000       0.000000         0.000000       0.000000   \n",
      "75%       528.000000       9.210000         0.000000       5.000000   \n",
      "max       714.000000    1062.280000         1.000000      10.000000   \n",
      "\n",
      "                 age         income         gender    year_joined  \n",
      "count  270926.000000  270926.000000  270926.000000  270926.000000  \n",
      "mean       54.001938   64399.777061       1.599141    2016.458125  \n",
      "std        17.389996   21256.051070       0.519078       1.217640  \n",
      "min        19.000000   30000.000000       1.000000    2013.000000  \n",
      "25%        42.000000   48000.000000       1.000000    2016.000000  \n",
      "50%        55.000000   62000.000000       2.000000    2017.000000  \n",
      "75%        66.000000   78000.000000       2.000000    2017.000000  \n",
      "max       100.000000  120000.000000       3.000000    2018.000000   \n",
      "\n",
      "Shape: (270926, 8) \n",
      "\n",
      "Data Types:\n",
      " time                 int64\n",
      "amount             float64\n",
      "offer_completed      int64\n",
      "reward             float64\n",
      "age                float64\n",
      "income             float64\n",
      "gender               int64\n",
      "year_joined          int64\n",
      "dtype: object \n",
      "\n",
      "Null Value Counts:\n",
      " time               0\n",
      "amount             0\n",
      "offer_completed    0\n",
      "reward             0\n",
      "age                0\n",
      "income             0\n",
      "gender             0\n",
      "year_joined        0\n",
      "dtype: int64\n",
      "\n",
      "Percentage of Null Values:\n",
      " time               0.0\n",
      "amount             0.0\n",
      "offer_completed    0.0\n",
      "reward             0.0\n",
      "age                0.0\n",
      "income             0.0\n",
      "gender             0.0\n",
      "year_joined        0.0\n",
      "dtype: float64\n"
     ]
    }
   ],
   "source": [
    "# Now we can go on with this clean dataset\n",
    "# First let's create a subset with the for me relevant feature variables\n",
    "df_prep = df[['time', 'amount', 'offer_completed', 'reward', 'age', 'income', 'gender', 'year_joined']]\n",
    "\n",
    "dataframe_summary(df_prep)"
   ]
  },
  {
   "cell_type": "markdown",
   "metadata": {},
   "source": [
    "## Split the Data"
   ]
  },
  {
   "cell_type": "code",
   "execution_count": 74,
   "metadata": {},
   "outputs": [],
   "source": [
    "X = df_prep[['time', 'amount', 'reward', 'age', 'income', 'gender', 'year_joined']]\n",
    "y =  df_prep['offer_completed']"
   ]
  },
  {
   "cell_type": "markdown",
   "metadata": {},
   "source": [
    "## Train the model"
   ]
  },
  {
   "cell_type": "code",
   "execution_count": 75,
   "metadata": {},
   "outputs": [],
   "source": [
    "from sklearn.model_selection import train_test_split\n",
    "\n",
    "X_train, X_test, y_train, y_test = train_test_split(X, y, random_state=42)\n"
   ]
  },
  {
   "cell_type": "markdown",
   "metadata": {},
   "source": [
    "# Modelling"
   ]
  },
  {
   "cell_type": "code",
   "execution_count": 76,
   "metadata": {},
   "outputs": [],
   "source": [
    "from sklearn.model_selection import cross_val_score\n",
    "from sklearn.metrics import accuracy_score, classification_report\n",
    "from sklearn.utils import resample\n",
    "from sklearn.tree import DecisionTreeClassifier\n",
    "from sklearn.model_selection import GridSearchCV\n",
    "from sklearn.ensemble import GradientBoostingClassifier, VotingClassifier, RandomForestClassifier\n",
    "from sklearn.linear_model import LogisticRegression\n",
    "from sklearn.ensemble import AdaBoostClassifier\n",
    "from sklearn.datasets import make_classification\n",
    "import time\n",
    "from sklearn.metrics import accuracy_score, f1_score"
   ]
  },
  {
   "cell_type": "markdown",
   "metadata": {},
   "source": [
    "## Decision Tree Classifier"
   ]
  },
  {
   "cell_type": "code",
   "execution_count": 77,
   "metadata": {},
   "outputs": [
    {
     "name": "stdout",
     "output_type": "stream",
     "text": [
      "Accuracy of the model: 0.87\n",
      "Accuracy of the balanced model: 0.87\n",
      "Classification Report for the balanced model:\n",
      "             precision    recall  f1-score   support\n",
      "\n",
      "          0       0.93      0.92      0.92     59711\n",
      "          1       0.44      0.47      0.46      8021\n",
      "\n",
      "avg / total       0.87      0.87      0.87     67732\n",
      "\n"
     ]
    }
   ],
   "source": [
    "# Initialize the Decision Tree Classifier\n",
    "clf = DecisionTreeClassifier(random_state=42)\n",
    "\n",
    "# Train the classifier using the training data\n",
    "clf.fit(X_train, y_train)\n",
    "\n",
    "# Predict on the test set\n",
    "y_pred = clf.predict(X_test)\n",
    "\n",
    "# Calculate the accuracy of the model\n",
    "accuracy = accuracy_score(y_test, y_pred)\n",
    "print(f\"Accuracy of the model: {accuracy:.2f}\")\n",
    "\n",
    "# Handling imbalance: Resampling the data (for example, upsampling the minority class)\n",
    "# Upsample the minority class in the training set if needed\n",
    "X_train_resampled, y_train_resampled = resample(X_train[y_train == 1], y_train[y_train == 1],\n",
    "                                               replace=True, n_samples=X_train[y_train == 0].shape[0],\n",
    "                                               random_state=42)\n",
    "X_train_balanced = pd.concat([X_train[y_train == 0], X_train_resampled])\n",
    "y_train_balanced = pd.concat([y_train[y_train == 0], y_train_resampled])\n",
    "\n",
    "# Retrain the classifier using the balanced training data\n",
    "clf_balanced = DecisionTreeClassifier(random_state=42)\n",
    "clf_balanced.fit(X_train_balanced, y_train_balanced)\n",
    "\n",
    "# Predict on the test set with the balanced classifier\n",
    "y_pred_balanced = clf_balanced.predict(X_test)\n",
    "\n",
    "# Calculate the accuracy of the balanced model\n",
    "accuracy_balanced = accuracy_score(y_test, y_pred_balanced)\n",
    "print(f\"Accuracy of the balanced model: {accuracy_balanced:.2f}\")\n",
    "\n",
    "# Show classification report for the balanced model\n",
    "print(\"Classification Report for the balanced model:\")\n",
    "print(classification_report(y_test, y_pred_balanced))\n"
   ]
  },
  {
   "cell_type": "markdown",
   "metadata": {},
   "source": [
    "### Grid Search on Decision Tree Classifier"
   ]
  },
  {
   "cell_type": "markdown",
   "metadata": {},
   "source": [
    "#### Define the hyperparameter grid\n",
    "param_grid = {\n",
    "    'max_depth': [3, 5, 7, 10],\n",
    "    'min_samples_split': [2, 5, 10],\n",
    "    'min_samples_leaf': [1, 2, 4]\n",
    "}\n",
    "\n",
    "#### Initialize GridSearchCV\n",
    "grid_search = GridSearchCV(clf, param_grid, cv=5)\n",
    "\n",
    "#### Perform grid search on your data\n",
    "grid_search.fit(X, y)\n",
    "\n",
    "#### Print the best parameters found\n",
    "print(\"Best Parameters:\", grid_search.best_params_)\n",
    "\n",
    "#### Get the best estimator/model\n",
    "best_clf = grid_search.best_estimator_\n",
    "\n",
    "#### Fit the best model on your data\n",
    "best_clf.fit(X_train, y_train)\n",
    "\n",
    "#### Predict using the best model\n",
    "y_pred = best_clf.predict(X_test)\n",
    "\n",
    "#### Print classification report\n",
    "print(\"Classification Report:\")\n",
    "print(classification_report(y_test, y_pred))\n",
    "\n",
    "#### Report\n",
    "Best Parameters: {'max_depth': 3, 'min_samples_leaf': 1, 'min_samples_split': 2}\n",
    "Classification Report:\n",
    "\n",
    "             precision    recall  f1-score   support\n",
    "\n",
    "          0       0.89      0.99      0.94     59711\n",
    "          1       0.65      0.11      0.19      8021\n",
    "\n",
    "avg / total       0.86      0.89      0.85     67732\n"
   ]
  },
  {
   "cell_type": "markdown",
   "metadata": {},
   "source": [
    "### Cross Validation on Decision Tree Classifier"
   ]
  },
  {
   "cell_type": "code",
   "execution_count": 78,
   "metadata": {},
   "outputs": [
    {
     "name": "stdout",
     "output_type": "stream",
     "text": [
      "Cross-validation scores: [ 0.88212823  0.88212823  0.8821445   0.8821445   0.70284586]\n",
      "Average accuracy: 0.846278263687\n"
     ]
    }
   ],
   "source": [
    "# Initialize the Decision Tree Classifier\n",
    "clf = DecisionTreeClassifier(max_depth=3, min_samples_leaf=1, min_samples_split=2)\n",
    "\n",
    "# Perform cross-validation and print the scores\n",
    "cv_scores = cross_val_score(clf, X, y, cv=5, scoring='accuracy')\n",
    "print(\"Cross-validation scores:\", cv_scores)\n",
    "print(\"Average accuracy:\", cv_scores.mean())"
   ]
  },
  {
   "cell_type": "markdown",
   "metadata": {},
   "source": [
    "## Gradient Boosting Classifier"
   ]
  },
  {
   "cell_type": "code",
   "execution_count": 79,
   "metadata": {},
   "outputs": [
    {
     "name": "stdout",
     "output_type": "stream",
     "text": [
      "Accuracy Score: 0.9063\n",
      "Classification Report:\n",
      "             precision    recall  f1-score   support\n",
      "\n",
      "          0       0.93      0.96      0.95     59711\n",
      "          1       0.64      0.48      0.55      8021\n",
      "\n",
      "avg / total       0.90      0.91      0.90     67732\n",
      "\n"
     ]
    }
   ],
   "source": [
    "# Initialize the Gradient Boosting Classifier\n",
    "gb_classifier = GradientBoostingClassifier(n_estimators=100, learning_rate=0.1, max_depth=3, random_state=42)\n",
    "\n",
    "# Train the model\n",
    "gb_classifier.fit(X_train, y_train)\n",
    "\n",
    "# Make predictions on the test set\n",
    "y_pred = gb_classifier.predict(X_test)\n",
    "\n",
    "# Calculate accuracy score\n",
    "accuracy = accuracy_score(y_test, y_pred)\n",
    "print(f\"Accuracy Score: {accuracy:.4f}\")\n",
    "\n",
    "# Generate classification report\n",
    "class_report = classification_report(y_test, y_pred)\n",
    "print(\"Classification Report:\")\n",
    "print(class_report)"
   ]
  },
  {
   "cell_type": "markdown",
   "metadata": {},
   "source": [
    "### Grid Search on Gradient Boosting Classifier\n"
   ]
  },
  {
   "cell_type": "markdown",
   "metadata": {},
   "source": [
    "#### Create the Gradient Boosting Classifier\n",
    "clf = GradientBoostingClassifier(random_state=42)\n",
    "\n",
    "#### Define hyperparameters for tuning\n",
    "param_grid = {\n",
    "    'n_estimators': [50, 100, 150],  # Adjusts the number of trees in the forest\n",
    "    'learning_rate': [0.05, 0.1, 0.2],  # Adjusts the learning rate\n",
    "    'max_depth': [3, 4, 5]  # Adjusts the maximum depth of the trees\n",
    "}\n",
    "\n",
    "#### Perform Grid Search to find the best parameters\n",
    "grid_search = GridSearchCV(estimator=clf, param_grid=param_grid, cv=5, scoring='accuracy')\n",
    "grid_search.fit(X_train, y_train)\n",
    "\n",
    "#### Get the best parameters\n",
    "best_params = grid_search.best_params_\n",
    "print(\"Best Parameters:\", best_params)\n",
    "\n",
    "#### Predict on the test set\n",
    "y_pred = grid_search.predict(X_test)\n",
    "\n",
    "#### Generate classification report\n",
    "classification_rep = classification_report(y_test, y_pred)\n",
    "print(\"Classification Report:\")\n",
    "print(classification_rep) \n",
    "\n",
    "#### Report\n",
    "User\n",
    "Best Parameters: {'learning_rate': 0.1, 'max_depth': 4, 'n_estimators': 150}\n",
    "Classification Report:\n",
    "             \n",
    "             precision    recall  f1-score   support\n",
    "\n",
    "          0       0.94      0.96      0.95     59711\n",
    "          1       0.63      0.56      0.59      8021\n",
    "avg / total       0.91      0.91      0.91     67732\n",
    "\n"
   ]
  },
  {
   "cell_type": "markdown",
   "metadata": {},
   "source": [
    "### Cross validation on Gradient Boosting Classifier"
   ]
  },
  {
   "cell_type": "code",
   "execution_count": 80,
   "metadata": {},
   "outputs": [
    {
     "name": "stdout",
     "output_type": "stream",
     "text": [
      "Cross-Validation Scores: [ 0.88220204  0.83351788  0.6305066   0.65538433  0.70290123]\n",
      "Mean CV Score: 0.740902416467\n"
     ]
    }
   ],
   "source": [
    "model = GradientBoostingClassifier(n_estimators=100, learning_rate=0.1, max_depth=4)\n",
    "\n",
    "# Perform cross-validation with 5 folds\n",
    "scores = cross_val_score(model, X, y, cv=5)\n",
    "\n",
    "# Print the cross-validation scores\n",
    "print(\"Cross-Validation Scores:\", scores)\n",
    "print(\"Mean CV Score:\", scores.mean())"
   ]
  },
  {
   "cell_type": "markdown",
   "metadata": {},
   "source": [
    "## ADA Boost Classifier"
   ]
  },
  {
   "cell_type": "code",
   "execution_count": 81,
   "metadata": {},
   "outputs": [
    {
     "name": "stdout",
     "output_type": "stream",
     "text": [
      "Mean Accuracy: 0.639617529774\n",
      "Classification Report:\n",
      "             precision    recall  f1-score   support\n",
      "\n",
      "          0       0.91      0.98      0.94    238994\n",
      "          1       0.63      0.28      0.39     31932\n",
      "\n",
      "avg / total       0.88      0.90      0.88    270926\n",
      "\n"
     ]
    }
   ],
   "source": [
    "# Initialize the AdaBoostClassifier model\n",
    "ada_boost = AdaBoostClassifier()\n",
    "\n",
    "# Perform cross-validation\n",
    "scores = cross_val_score(ada_boost, X, y, cv=5, scoring='accuracy')\n",
    "\n",
    "# Print the mean accuracy across cross-validation folds\n",
    "print(\"Mean Accuracy:\", scores.mean())\n",
    "\n",
    "# Fit the model on the entire dataset\n",
    "ada_boost.fit(X, y)\n",
    "\n",
    "# Predict on the dataset\n",
    "y_pred = ada_boost.predict(X)\n",
    "\n",
    "# Print classification report\n",
    "print(\"Classification Report:\")\n",
    "print(classification_report(y, y_pred))"
   ]
  },
  {
   "cell_type": "markdown",
   "metadata": {},
   "source": [
    "### GridSearchCV on ADA Boost Classifier"
   ]
  },
  {
   "cell_type": "markdown",
   "metadata": {},
   "source": [
    "#### Define the hyperparameters to tune\n",
    "param_grid = {\n",
    "    'n_estimators': [50, 100, 150],\n",
    "    'learning_rate': [0.1, 0.5, 1.0]\n",
    "}\n",
    "\n",
    "#### Perform GridSearchCV\n",
    "grid_search = GridSearchCV(estimator=ada_boost, param_grid=param_grid, cv=5, scoring='accuracy')\n",
    "grid_search.fit(X, y)\n",
    "\n",
    "#### Get the best parameters and the best score\n",
    "best_params = grid_search.best_params_\n",
    "best_score = grid_search.best_score_\n",
    "\n",
    "#### Print the best parameters and best score\n",
    "print(\"Best Parameters:\", best_params)\n",
    "print(\"Best Score:\", best_score)\n",
    "\n",
    "#### Report\n",
    "Best Parameters: {'learning_rate': 0.1, 'n_estimators': 50}\n",
    "Best Score: 0.84627905775"
   ]
  },
  {
   "cell_type": "markdown",
   "metadata": {},
   "source": [
    "### Cross Validation on ADA Boost Classifier"
   ]
  },
  {
   "cell_type": "code",
   "execution_count": 82,
   "metadata": {},
   "outputs": [
    {
     "name": "stdout",
     "output_type": "stream",
     "text": [
      "Cross-validation scores: [ 0.88212823  0.88212823  0.8821445   0.8821445   0.70284586]\n",
      "Mean CV Accuracy: 0.846278263687\n"
     ]
    }
   ],
   "source": [
    "# Initialize the AdaBoostClassifier\n",
    "ada_boost = AdaBoostClassifier(n_estimators=50, learning_rate=0.1)\n",
    "\n",
    "# Perform cross-validation\n",
    "cv_scores = cross_val_score(ada_boost, X, y, cv=5, scoring='accuracy')\n",
    "\n",
    "# Print the cross-validation scores\n",
    "print(\"Cross-validation scores:\", cv_scores)\n",
    "print(\"Mean CV Accuracy:\", cv_scores.mean())"
   ]
  },
  {
   "cell_type": "markdown",
   "metadata": {},
   "source": [
    "## Further Improvement"
   ]
  },
  {
   "cell_type": "code",
   "execution_count": 83,
   "metadata": {},
   "outputs": [
    {
     "name": "stdout",
     "output_type": "stream",
     "text": [
      "Cross-validation scores: [ 0.88212823  0.88212823  0.8821445   0.8821445   0.70286431]\n",
      "Mean CV Accuracy: 0.846281954814\n",
      "Classification Report:\n",
      "             precision    recall  f1-score   support\n",
      "\n",
      "          0       0.89      0.99      0.94     59711\n",
      "          1       0.67      0.11      0.18      8021\n",
      "\n",
      "avg / total       0.87      0.89      0.85     67732\n",
      "\n"
     ]
    }
   ],
   "source": [
    "### Ensemble Gradient Boosting Classifier, Random Forest Classifier and Decision Tree Classifier\n",
    "# Initialize models with ideal parameters.\n",
    "gboost = GradientBoostingClassifier(n_estimators=150, learning_rate=0.1, max_depth=4)\n",
    "decision_tree = DecisionTreeClassifier(max_depth=3, min_samples_leaf=1, min_samples_split=2)\n",
    "random_forest = RandomForestClassifier(n_estimators=100, max_depth=5)\n",
    "\n",
    "# Create the VotingClassifier with Gradient Boosting, Decision Tree, and Random Forest\n",
    "voting_classifier = VotingClassifier(estimators=[('gboost', gboost), ('dt', decision_tree), ('rf', random_forest)], voting='hard')\n",
    "\n",
    "# Perform cross-validation\n",
    "cv_scores = cross_val_score(voting_classifier, X, y, cv=5, scoring='accuracy')\n",
    "\n",
    "# Fit the VotingClassifier on the training data\n",
    "voting_classifier.fit(X_train, y_train)\n",
    "\n",
    "# Predict on the test set\n",
    "y_pred = voting_classifier.predict(X_test)\n",
    "\n",
    "# Print the cross-validation scores\n",
    "print(\"Cross-validation scores:\", cv_scores)\n",
    "print(\"Mean CV Accuracy:\", cv_scores.mean())\n",
    "\n",
    "# Print the classification report\n",
    "print(\"Classification Report:\")\n",
    "print(classification_report(y_test, y_pred))"
   ]
  },
  {
   "cell_type": "code",
   "execution_count": 84,
   "metadata": {},
   "outputs": [],
   "source": [
    "# --> no Improvement. GradientBoostingClassifier as choice."
   ]
  },
  {
   "cell_type": "markdown",
   "metadata": {},
   "source": [
    "## Importance of feature variables"
   ]
  },
  {
   "cell_type": "code",
   "execution_count": 85,
   "metadata": {},
   "outputs": [
    {
     "name": "stdout",
     "output_type": "stream",
     "text": [
      "       Feature  Importance\n",
      "0         time    0.493868\n",
      "2       reward    0.341149\n",
      "4       income    0.060484\n",
      "6  year_joined    0.051052\n",
      "3          age    0.030402\n",
      "5       gender    0.023045\n",
      "1       amount    0.000000\n"
     ]
    }
   ],
   "source": [
    "# Instantiate GradientBoostingClassifier with specified parameters\n",
    "gb_classifier = GradientBoostingClassifier(learning_rate=0.1, max_depth=4, n_estimators=150, random_state=42)\n",
    "\n",
    "# Fit the model to your data\n",
    "gb_classifier.fit(X, y)\n",
    "\n",
    "# Obtain feature importances\n",
    "feature_importances = gb_classifier.feature_importances_\n",
    "\n",
    "# Match feature importances with feature names\n",
    "feature_importance_df = pd.DataFrame({'Feature': X.columns, 'Importance': feature_importances})\n",
    "feature_importance_df = feature_importance_df.sort_values(by='Importance', ascending=False)\n",
    "\n",
    "# Display the feature importance scores\n",
    "print(feature_importance_df)"
   ]
  },
  {
   "cell_type": "markdown",
   "metadata": {},
   "source": [
    "## Model Evaluation Table"
   ]
  },
  {
   "cell_type": "code",
   "execution_count": 88,
   "metadata": {},
   "outputs": [
    {
     "name": "stdout",
     "output_type": "stream",
     "text": [
      "Decision Tree Classifier Accuracy: 0.8755, F1 Score: 0.4712, Runtime: 0.6249 seconds\n",
      "ADA Boost Classifier Accuracy: 0.8936, F1 Score: 0.3497, Runtime: 6.4709 seconds\n",
      "Gradient Boost Classifier Accuracy: 0.9056, F1 Score: 0.5377, Runtime: 8.0925 seconds\n"
     ]
    }
   ],
   "source": [
    "# Split the data into train and test sets\n",
    "X_train, X_test, y_train, y_test = train_test_split(X, y, test_size=0.2, random_state=42)\n",
    "\n",
    "# Function to train and evaluate a classifier\n",
    "def train_evaluate_classifier(classifier, X_train, y_train, X_test, y_test):\n",
    "    start_time = time.time()\n",
    "    classifier.fit(X_train, y_train)\n",
    "    predictions = classifier.predict(X_test)\n",
    "    accuracy = accuracy_score(y_test, predictions)\n",
    "    f1 = f1_score(y_test, predictions)\n",
    "    runtime = time.time() - start_time\n",
    "    return accuracy, f1, runtime\n",
    "\n",
    "# Decision Tree Classifier\n",
    "dt_classifier = DecisionTreeClassifier(random_state=42)\n",
    "dt_accuracy, dt_f1, dt_runtime = train_evaluate_classifier(dt_classifier, X_train, y_train, X_test, y_test)\n",
    "\n",
    "# ADA Boost Classifier\n",
    "ada_classifier = AdaBoostClassifier(n_estimators=50, random_state=42)\n",
    "ada_accuracy, ada_f1, ada_runtime = train_evaluate_classifier(ada_classifier, X_train, y_train, X_test, y_test)\n",
    "\n",
    "# Gradient Boost Classifier\n",
    "gb_classifier = GradientBoostingClassifier(n_estimators=100, learning_rate=0.1, max_depth=3, random_state=42)\n",
    "gb_accuracy, gb_f1, gb_runtime = train_evaluate_classifier(gb_classifier, X_train, y_train, X_test, y_test)\n",
    "\n",
    "# Print the performance of each model\n",
    "print(f\"Decision Tree Classifier Accuracy: {dt_accuracy:.4f}, F1 Score: {dt_f1:.4f}, Runtime: {dt_runtime:.4f} seconds\")\n",
    "print(f\"ADA Boost Classifier Accuracy: {ada_accuracy:.4f}, F1 Score: {ada_f1:.4f}, Runtime: {ada_runtime:.4f} seconds\")\n",
    "print(f\"Gradient Boost Classifier Accuracy: {gb_accuracy:.4f}, F1 Score: {gb_f1:.4f}, Runtime: {gb_runtime:.4f} seconds\")"
   ]
  },
  {
   "cell_type": "code",
   "execution_count": 89,
   "metadata": {},
   "outputs": [
    {
     "name": "stdout",
     "output_type": "stream",
     "text": [
      "Classifier              Accuracy    F1 Score    Runtime (seconds)\n",
      "--------------------------------------------------------------\n",
      "Decision Tree        0.8755      0.4712      0.6671           \n",
      "ADA Boost            0.8936      0.3497      7.4005           \n",
      "Gradient Boost       0.9056      0.5377      9.7723           \n"
     ]
    }
   ],
   "source": [
    "# Results data\n",
    "results = [\n",
    "    [\"Decision Tree\", 0.8755, 0.4712, 0.6671],\n",
    "    [\"ADA Boost\", 0.8936, 0.3497, 7.4005],\n",
    "    [\"Gradient Boost\", 0.9056, 0.5377, 9.7723]\n",
    "]\n",
    "\n",
    "# Printing the results in a formatted way\n",
    "print(\"Classifier              Accuracy    F1 Score    Runtime (seconds)\")\n",
    "print(\"--------------------------------------------------------------\")\n",
    "for row in results:\n",
    "    print(f\"{row[0]:<20} {row[1]:<11.4f} {row[2]:<11.4f} {row[3]:<17.4f}\")\n"
   ]
  },
  {
   "cell_type": "code",
   "execution_count": null,
   "metadata": {},
   "outputs": [],
   "source": []
  }
 ],
 "metadata": {
  "kernelspec": {
   "display_name": "Python 3",
   "language": "python",
   "name": "python3"
  },
  "language_info": {
   "codemirror_mode": {
    "name": "ipython",
    "version": 3
   },
   "file_extension": ".py",
   "mimetype": "text/x-python",
   "name": "python",
   "nbconvert_exporter": "python",
   "pygments_lexer": "ipython3",
   "version": "3.6.3"
  }
 },
 "nbformat": 4,
 "nbformat_minor": 2
}
